{
 "cells": [
  {
   "cell_type": "markdown",
   "id": "0cbd3541",
   "metadata": {},
   "source": [
    "## iterators\n",
    "##for ,while\n"
   ]
  },
  {
   "cell_type": "code",
   "execution_count": 2,
   "id": "5ae9f4ba",
   "metadata": {},
   "outputs": [
    {
     "name": "stdout",
     "output_type": "stream",
     "text": [
      "range(1, 11, 2)\n"
     ]
    }
   ],
   "source": [
    "print(range(1,10+1,2))"
   ]
  },
  {
   "cell_type": "code",
   "execution_count": 1,
   "id": "4783c693",
   "metadata": {},
   "outputs": [
    {
     "name": "stdout",
     "output_type": "stream",
     "text": [
      "0 2 4 6 8 10 "
     ]
    }
   ],
   "source": [
    "for x in range(0,11,2):\n",
    "    print(x,end=\" \")"
   ]
  },
  {
   "cell_type": "code",
   "execution_count": 8,
   "id": "fbc2594a",
   "metadata": {},
   "outputs": [
    {
     "name": "stdout",
     "output_type": "stream",
     "text": [
      "enter number5\n",
      "5 * 1 = 5\n",
      "5 * 2 = 10\n",
      "5 * 3 = 15\n",
      "5 * 4 = 20\n",
      "5 * 5 = 25\n",
      "5 * 6 = 30\n",
      "5 * 7 = 35\n",
      "5 * 8 = 40\n",
      "5 * 9 = 45\n",
      "5 * 10 = 50\n"
     ]
    }
   ],
   "source": [
    "a=int(input(\"enter number\"))\n",
    "for x in range(1,11):\n",
    "    print(a,\"*\",x,\"=\",a*x)"
   ]
  },
  {
   "cell_type": "code",
   "execution_count": 12,
   "id": "c376f452",
   "metadata": {},
   "outputs": [
    {
     "name": "stdout",
     "output_type": "stream",
     "text": [
      " enter number5\n",
      "\n",
      "* \n",
      "* * \n",
      "* * * \n",
      "* * * * \n"
     ]
    }
   ],
   "source": [
    "a=int(input(\" enter number\"))\n",
    "for x in range(1,a+1):\n",
    "    for y in range(1,x):\n",
    "        print(\"*\",end=\" \")\n",
    "    print()"
   ]
  },
  {
   "cell_type": "code",
   "execution_count": 13,
   "id": "0711ee3f",
   "metadata": {},
   "outputs": [
    {
     "name": "stdout",
     "output_type": "stream",
     "text": [
      "enter number50\n",
      "1\n",
      "2\n",
      "fizz\n",
      "4\n",
      "buzz\n",
      "fizz\n",
      "7\n",
      "8\n",
      "fizz\n",
      "buzz\n",
      "11\n",
      "fizz\n",
      "13\n",
      "14\n",
      "fizzbuzz\n",
      "16\n",
      "17\n",
      "fizz\n",
      "19\n",
      "buzz\n",
      "fizz\n",
      "22\n",
      "23\n",
      "fizz\n",
      "buzz\n",
      "26\n",
      "fizz\n",
      "28\n",
      "29\n",
      "fizzbuzz\n",
      "31\n",
      "32\n",
      "fizz\n",
      "34\n",
      "buzz\n",
      "fizz\n",
      "37\n",
      "38\n",
      "fizz\n",
      "buzz\n",
      "41\n",
      "fizz\n",
      "43\n",
      "44\n",
      "fizzbuzz\n",
      "46\n",
      "47\n",
      "fizz\n",
      "49\n",
      "buzz\n"
     ]
    }
   ],
   "source": [
    "#fizzbuzz\n",
    "# write a progrom which iterates the integers from 1 to 50.\n",
    "# For multiples of three print \"Fizz\" instead of the number and\n",
    "# for the multiples of five print \"Buzz\".\n",
    "#  For numbers which are multiples of both three and five print \"FizzBuzz\"\n",
    "a=int(input(\"enter number\"))\n",
    "for x in range(1,a+1):\n",
    "    if x % 3 == 0 and x % 5 == 0:\n",
    "        print(\"fizzbuzz\")\n",
    "        continue\n",
    "    if x%3==0:\n",
    "        print(\"fizz\")\n",
    "        continue\n",
    "    if x%5==0:\n",
    "        print(\"buzz\")\n",
    "        continue\n",
    "    print(x)\n"
   ]
  },
  {
   "cell_type": "code",
   "execution_count": 2,
   "id": "f6c0501b",
   "metadata": {},
   "outputs": [
    {
     "name": "stdout",
     "output_type": "stream",
     "text": [
      "enter number :143\n",
      "8\n"
     ]
    }
   ],
   "source": [
    "# sum of digits(143=1+4+3(8))\n",
    "a=int(input(\"enter number :\"))\n",
    "add=0\n",
    "while a>0:\n",
    "    b=a%10\n",
    "    add+=b\n",
    "    a//=10\n",
    "print(add)"
   ]
  },
  {
   "cell_type": "code",
   "execution_count": 8,
   "id": "0125247f",
   "metadata": {},
   "outputs": [
    {
     "name": "stdout",
     "output_type": "stream",
     "text": [
      " enter number :12321\n",
      "palindrome\n"
     ]
    }
   ],
   "source": [
    "# palindrome\n",
    "a=int(input(\" enter number :\"))\n",
    "add=0\n",
    "temp=a\n",
    "while temp>0:\n",
    "    b=temp%10\n",
    "    add=(add*10)+b\n",
    "    temp//=10\n",
    "if add==a:\n",
    "    print(\"palindrome\")\n",
    "else:\n",
    "    print(\"not palindrome\")"
   ]
  },
  {
   "cell_type": "code",
   "execution_count": 1,
   "id": "d511728a",
   "metadata": {},
   "outputs": [
    {
     "name": "stdout",
     "output_type": "stream",
     "text": [
      "enter number:153\n",
      "armstrong\n"
     ]
    }
   ],
   "source": [
    "# armstrong\n",
    "a=int(input(\"enter number:\"))\n",
    "temp=a\n",
    "add=0\n",
    "while temp>0:\n",
    "    b=temp%10\n",
    "    add=add+(b**3)\n",
    "    temp//=10\n",
    "if a== add:\n",
    "    print(\"armstrong\")\n",
    "else:\n",
    "    print((not armstrong))"
   ]
  },
  {
   "cell_type": "code",
   "execution_count": null,
   "id": "4a9c2f7b",
   "metadata": {},
   "outputs": [],
   "source": [
    "# print if numbers is add or mul or div and soooooonnnnnn\n",
    "a=int(input(\"enter number:\"))\n",
    "b=int(input(\"enter number:\"))\n",
    "\n",
    "user=input(\"enter which one you want :\")\n",
    "if user==\"add\":\n",
    "    print(a+b)\n",
    "elif user==\"sub\":\n",
    "    print(a-b)\n",
    "elif user==\"mul\":\n",
    "    print(a*b)\n",
    "elif user==\"div\":\n",
    "    print(a/b)\n",
    "elif user==\"mod\":\n",
    "    print(a%b)\n",
    "elif user==\"floor\":\n",
    "    print(a//b)\n",
    "elif user==\"square\":\n",
    "    print(a**b)\n",
    "else:\n",
    "    print(\"wrong input\")"
   ]
  },
  {
   "cell_type": "code",
   "execution_count": null,
   "id": "edbb4329",
   "metadata": {},
   "outputs": [],
   "source": []
  },
  {
   "cell_type": "code",
   "execution_count": null,
   "id": "5d85b718",
   "metadata": {},
   "outputs": [],
   "source": []
  }
 ],
 "metadata": {
  "kernelspec": {
   "display_name": "Python 3",
   "language": "python",
   "name": "python3"
  },
  "language_info": {
   "codemirror_mode": {
    "name": "ipython",
    "version": 3
   },
   "file_extension": ".py",
   "mimetype": "text/x-python",
   "name": "python",
   "nbconvert_exporter": "python",
   "pygments_lexer": "ipython3",
   "version": "3.8.8"
  }
 },
 "nbformat": 4,
 "nbformat_minor": 5
}
