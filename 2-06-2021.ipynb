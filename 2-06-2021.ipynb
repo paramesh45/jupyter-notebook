{
 "cells": [
  {
   "cell_type": "code",
   "execution_count": 1,
   "id": "8ecc799a",
   "metadata": {},
   "outputs": [],
   "source": [
    "k2=[1,2,3,4,5,\"abc\",[1,2,3,\"paramesh\"],4,5]\n"
   ]
  },
  {
   "cell_type": "code",
   "execution_count": 2,
   "id": "35653557",
   "metadata": {},
   "outputs": [],
   "source": [
    "k2[6].append(125)"
   ]
  },
  {
   "cell_type": "code",
   "execution_count": 3,
   "id": "e16a77b4",
   "metadata": {},
   "outputs": [
    {
     "data": {
      "text/plain": [
       "[1, 2, 3, 4, 5, 'abc', [1, 2, 3, 'paramesh', 125], 4, 5]"
      ]
     },
     "execution_count": 3,
     "metadata": {},
     "output_type": "execute_result"
    }
   ],
   "source": [
    "k2"
   ]
  },
  {
   "cell_type": "code",
   "execution_count": 4,
   "id": "2355e5a5",
   "metadata": {},
   "outputs": [
    {
     "ename": "SyntaxError",
     "evalue": "invalid syntax (<ipython-input-4-040863c92289>, line 1)",
     "output_type": "error",
     "traceback": [
      "\u001b[1;36m  File \u001b[1;32m\"<ipython-input-4-040863c92289>\"\u001b[1;36m, line \u001b[1;32m1\u001b[0m\n\u001b[1;33m    1. convert the tuple to string\u001b[0m\n\u001b[1;37m       ^\u001b[0m\n\u001b[1;31mSyntaxError\u001b[0m\u001b[1;31m:\u001b[0m invalid syntax\n"
     ]
    }
   ],
   "source": [
    "1. convert the tuple to string\n",
    "Input: t = (\"D\",\"a\",\"t\",\"a\",\" \",\"A\",\"n\",\"a\",\"l\",\"y\",\"s\",\"i\",\"s\")\n",
    "Output: Data Analysis\n",
    ">2. l = \"abc 234 njk897 23hj 1k\"\n",
    "Output: (234+897+23+1)\n",
    ">3. to print unique list\n",
    "Input: [1,2,3,4,1,2,3,4,3,2]\n",
    "Output:[1,2,3,4]\n",
    ">4. Parallel sum list\n",
    "Input:\n",
    "list1 = [10,20,30,40]\n",
    "list2 = [50,60,70,80]\n",
    "output:\n",
    "[60,80,100,120]\n",
    ">5. Read a list, seperate the even numbers to even list and odd numbers to odd list\n"
   ]
  },
  {
   "cell_type": "markdown",
   "id": "22f4c42d",
   "metadata": {},
   "source": [
    "Data structures\n",
    "---------------------\n",
    "#### 1.list\n",
    "#### 2.tuple\n",
    "#### 3.set\n",
    "#### 4.dictionary\n"
   ]
  },
  {
   "cell_type": "markdown",
   "id": "60a57a07",
   "metadata": {},
   "source": [
    "# list\n",
    "### .Lists are used to store the collection of multiple data.\n",
    "### .Lists are mutable\n",
    "### . Lists are ordered\n",
    "### .Allows duplicate values\n",
    "### .Represented by brackets([])"
   ]
  },
  {
   "cell_type": "code",
   "execution_count": 5,
   "id": "b675c97f",
   "metadata": {},
   "outputs": [],
   "source": [
    "paramesh=[]"
   ]
  },
  {
   "cell_type": "code",
   "execution_count": 6,
   "id": "b43c8660",
   "metadata": {},
   "outputs": [
    {
     "data": {
      "text/plain": [
       "list"
      ]
     },
     "execution_count": 6,
     "metadata": {},
     "output_type": "execute_result"
    }
   ],
   "source": [
    "type(paramesh)"
   ]
  },
  {
   "cell_type": "code",
   "execution_count": 8,
   "id": "70abd674",
   "metadata": {},
   "outputs": [
    {
     "ename": "TypeError",
     "evalue": "append() takes exactly one argument (6 given)",
     "output_type": "error",
     "traceback": [
      "\u001b[1;31m---------------------------------------------------------------------------\u001b[0m",
      "\u001b[1;31mTypeError\u001b[0m                                 Traceback (most recent call last)",
      "\u001b[1;32m<ipython-input-8-e5f77a901fcf>\u001b[0m in \u001b[0;36m<module>\u001b[1;34m\u001b[0m\n\u001b[1;32m----> 1\u001b[1;33m \u001b[0mparamesh\u001b[0m\u001b[1;33m.\u001b[0m\u001b[0mappend\u001b[0m\u001b[1;33m(\u001b[0m\u001b[1;36m1\u001b[0m\u001b[1;33m,\u001b[0m\u001b[1;36m2.3\u001b[0m\u001b[1;33m,\u001b[0m\u001b[1;36m33\u001b[0m\u001b[1;33m,\u001b[0m\u001b[1;36m45\u001b[0m\u001b[1;33m,\u001b[0m\u001b[1;36m5\u001b[0m\u001b[1;33m,\u001b[0m\u001b[1;34m\"hello\"\u001b[0m\u001b[1;33m)\u001b[0m\u001b[1;33m\u001b[0m\u001b[1;33m\u001b[0m\u001b[0m\n\u001b[0m\u001b[0;32m      2\u001b[0m \u001b[0mparamesh\u001b[0m\u001b[1;33m\u001b[0m\u001b[1;33m\u001b[0m\u001b[0m\n",
      "\u001b[1;31mTypeError\u001b[0m: append() takes exactly one argument (6 given)"
     ]
    }
   ],
   "source": [
    "paramesh.append(1,2.3,33,45,5,\"hello\")\n",
    "paramesh"
   ]
  },
  {
   "cell_type": "code",
   "execution_count": 9,
   "id": "407824aa",
   "metadata": {},
   "outputs": [
    {
     "data": {
      "text/plain": [
       "[1, 2, 3, 44, 5.44, 666.45, 'hello']"
      ]
     },
     "execution_count": 9,
     "metadata": {},
     "output_type": "execute_result"
    }
   ],
   "source": [
    "paramesh=[1,2,3,44,5.44,666.45,\"hello\"]\n",
    "paramesh"
   ]
  },
  {
   "cell_type": "code",
   "execution_count": 10,
   "id": "8ceeea03",
   "metadata": {},
   "outputs": [],
   "source": [
    "paramesh.append(\"akhila\")"
   ]
  },
  {
   "cell_type": "code",
   "execution_count": 11,
   "id": "e5ff7ed0",
   "metadata": {},
   "outputs": [
    {
     "data": {
      "text/plain": [
       "[1, 2, 3, 44, 5.44, 666.45, 'hello', 'akhila']"
      ]
     },
     "execution_count": 11,
     "metadata": {},
     "output_type": "execute_result"
    }
   ],
   "source": [
    "paramesh"
   ]
  },
  {
   "cell_type": "code",
   "execution_count": 12,
   "id": "a626b8ae",
   "metadata": {},
   "outputs": [
    {
     "data": {
      "text/plain": [
       "[1, 2, 3, 'archana']"
      ]
     },
     "execution_count": 12,
     "metadata": {},
     "output_type": "execute_result"
    }
   ],
   "source": [
    "khyathi=[1,2,3,\"archana\"]\n",
    "khyathi"
   ]
  },
  {
   "cell_type": "code",
   "execution_count": 13,
   "id": "5bddaab2",
   "metadata": {},
   "outputs": [
    {
     "data": {
      "text/plain": [
       "[1, 2, 3, 44, 5.44, 666.45, 'hello', 'akhila', [1, 2, 3, 'archana']]"
      ]
     },
     "execution_count": 13,
     "metadata": {},
     "output_type": "execute_result"
    }
   ],
   "source": [
    "paramesh.append(khyathi)\n",
    "paramesh"
   ]
  },
  {
   "cell_type": "code",
   "execution_count": 16,
   "id": "c07159ec",
   "metadata": {},
   "outputs": [
    {
     "ename": "TypeError",
     "evalue": "'int' object is not iterable",
     "output_type": "error",
     "traceback": [
      "\u001b[1;31m---------------------------------------------------------------------------\u001b[0m",
      "\u001b[1;31mTypeError\u001b[0m                                 Traceback (most recent call last)",
      "\u001b[1;32m<ipython-input-16-7c300a0b24b7>\u001b[0m in \u001b[0;36m<module>\u001b[1;34m\u001b[0m\n\u001b[1;32m----> 1\u001b[1;33m \u001b[0mkhyathi\u001b[0m\u001b[1;33m.\u001b[0m\u001b[0mextend\u001b[0m\u001b[1;33m(\u001b[0m\u001b[1;36m10\u001b[0m\u001b[1;33m)\u001b[0m\u001b[1;33m\u001b[0m\u001b[1;33m\u001b[0m\u001b[0m\n\u001b[0m\u001b[0;32m      2\u001b[0m \u001b[0mkhyathi\u001b[0m\u001b[1;33m\u001b[0m\u001b[1;33m\u001b[0m\u001b[0m\n",
      "\u001b[1;31mTypeError\u001b[0m: 'int' object is not iterable"
     ]
    }
   ],
   "source": [
    "khyathi.extend(10)\n",
    "khyathi"
   ]
  },
  {
   "cell_type": "code",
   "execution_count": 17,
   "id": "e78b36d2",
   "metadata": {},
   "outputs": [
    {
     "data": {
      "text/plain": [
       "[1, 2, 3, 'archana', 'a', 'a', 'a']"
      ]
     },
     "execution_count": 17,
     "metadata": {},
     "output_type": "execute_result"
    }
   ],
   "source": [
    "khyathi.extend(\"aa\")\n",
    "khyathi"
   ]
  },
  {
   "cell_type": "code",
   "execution_count": 18,
   "id": "296004e2",
   "metadata": {},
   "outputs": [
    {
     "ename": "TypeError",
     "evalue": "'int' object is not iterable",
     "output_type": "error",
     "traceback": [
      "\u001b[1;31m---------------------------------------------------------------------------\u001b[0m",
      "\u001b[1;31mTypeError\u001b[0m                                 Traceback (most recent call last)",
      "\u001b[1;32m<ipython-input-18-996cb373b6c0>\u001b[0m in \u001b[0;36m<module>\u001b[1;34m\u001b[0m\n\u001b[1;32m----> 1\u001b[1;33m \u001b[0mkhyathi\u001b[0m\u001b[1;33m.\u001b[0m\u001b[0mextend\u001b[0m\u001b[1;33m(\u001b[0m\u001b[1;36m1\u001b[0m\u001b[1;33m)\u001b[0m\u001b[1;33m\u001b[0m\u001b[1;33m\u001b[0m\u001b[0m\n\u001b[0m\u001b[0;32m      2\u001b[0m \u001b[0mkhyathi\u001b[0m\u001b[1;33m\u001b[0m\u001b[1;33m\u001b[0m\u001b[0m\n",
      "\u001b[1;31mTypeError\u001b[0m: 'int' object is not iterable"
     ]
    }
   ],
   "source": [
    "khyathi.extend(1)\n",
    "khyathi"
   ]
  },
  {
   "cell_type": "code",
   "execution_count": 19,
   "id": "8e2c5935",
   "metadata": {},
   "outputs": [
    {
     "data": {
      "text/plain": [
       "[1,\n",
       " 2,\n",
       " 3,\n",
       " 44,\n",
       " 5.44,\n",
       " 666.45,\n",
       " 'hello',\n",
       " 'akhila',\n",
       " [1, 2, 3, 'archana', 'a', 'a', 'a'],\n",
       " 1,\n",
       " 2,\n",
       " 3,\n",
       " 'archana',\n",
       " 'a',\n",
       " 'a',\n",
       " 'a']"
      ]
     },
     "execution_count": 19,
     "metadata": {},
     "output_type": "execute_result"
    }
   ],
   "source": [
    "paramesh.extend(khyathi)\n",
    "paramesh"
   ]
  },
  {
   "cell_type": "code",
   "execution_count": 20,
   "id": "69a1f16f",
   "metadata": {},
   "outputs": [
    {
     "data": {
      "text/plain": [
       "[1,\n",
       " 2,\n",
       " 3,\n",
       " 44,\n",
       " 5.44,\n",
       " 666.45,\n",
       " 'hello',\n",
       " 'akhila',\n",
       " [1, 2, 3, 'archana', 'a', 'a', 'a'],\n",
       " 1,\n",
       " 2,\n",
       " 3,\n",
       " 'archana',\n",
       " 'a',\n",
       " 'a',\n",
       " 'a',\n",
       " 1,\n",
       " 2,\n",
       " 3.3,\n",
       " 'ram']"
      ]
     },
     "execution_count": 20,
     "metadata": {},
     "output_type": "execute_result"
    }
   ],
   "source": [
    "archana=[1,2,3.3,\"ram\"]\n",
    "paramesh.extend(archana)\n",
    "paramesh"
   ]
  },
  {
   "cell_type": "code",
   "execution_count": 21,
   "id": "f86cf0c7",
   "metadata": {},
   "outputs": [
    {
     "data": {
      "text/plain": [
       "[10, 20, 30, 1, 2, 3.3, 'ram']"
      ]
     },
     "execution_count": 21,
     "metadata": {},
     "output_type": "execute_result"
    }
   ],
   "source": [
    "ratna=[10,20,30]\n",
    "ratna.extend(archana)\n",
    "ratna"
   ]
  },
  {
   "cell_type": "code",
   "execution_count": 22,
   "id": "5064f6c7",
   "metadata": {},
   "outputs": [
    {
     "data": {
      "text/plain": [
       "[10, 20, 30, 'akka', 1, 2, 3.3, 'ram']"
      ]
     },
     "execution_count": 22,
     "metadata": {},
     "output_type": "execute_result"
    }
   ],
   "source": [
    "ratna.insert(3,\"akka\")\n",
    "ratna"
   ]
  },
  {
   "cell_type": "code",
   "execution_count": 23,
   "id": "ecd5e465",
   "metadata": {},
   "outputs": [
    {
     "data": {
      "text/plain": [
       "[10, 20, 30, 'akka', 1, 2, 3.3, 'ram', [1, 2, 3.3, 'ram']]"
      ]
     },
     "execution_count": 23,
     "metadata": {},
     "output_type": "execute_result"
    }
   ],
   "source": [
    "ratna.append(archana)\n",
    "ratna"
   ]
  },
  {
   "cell_type": "code",
   "execution_count": 24,
   "id": "89a9d09b",
   "metadata": {},
   "outputs": [
    {
     "data": {
      "text/plain": [
       "[10, 20, 30, 'akka', 1, 2, 3.3, 'ram', [1, 256, 2, 3.3, 'ram']]"
      ]
     },
     "execution_count": 24,
     "metadata": {},
     "output_type": "execute_result"
    }
   ],
   "source": [
    "ratna[8].insert(1,256)\n",
    "ratna"
   ]
  },
  {
   "cell_type": "code",
   "execution_count": 25,
   "id": "8bafb07e",
   "metadata": {},
   "outputs": [
    {
     "data": {
      "text/plain": [
       "['paramesh', 1, 79]"
      ]
     },
     "execution_count": 25,
     "metadata": {},
     "output_type": "execute_result"
    }
   ],
   "source": [
    "parimala=[\"paramesh\",1,79]\n",
    "venkatesh=parimala.copy()\n",
    "venkatesh"
   ]
  },
  {
   "cell_type": "code",
   "execution_count": 27,
   "id": "e43786d3",
   "metadata": {},
   "outputs": [
    {
     "data": {
      "text/plain": [
       "['paramesh', 1, 79]"
      ]
     },
     "execution_count": 27,
     "metadata": {},
     "output_type": "execute_result"
    }
   ],
   "source": [
    "parimala"
   ]
  },
  {
   "cell_type": "code",
   "execution_count": 28,
   "id": "5b49cf63",
   "metadata": {},
   "outputs": [
    {
     "data": {
      "text/plain": [
       "['paramesh', 1, 79, 'abc']"
      ]
     },
     "execution_count": 28,
     "metadata": {},
     "output_type": "execute_result"
    }
   ],
   "source": [
    "parimala.append(\"abc\")\n",
    "parimala"
   ]
  },
  {
   "cell_type": "code",
   "execution_count": 30,
   "id": "252727ea",
   "metadata": {},
   "outputs": [
    {
     "data": {
      "text/plain": [
       "['paramesh', 1, 79]"
      ]
     },
     "execution_count": 30,
     "metadata": {},
     "output_type": "execute_result"
    }
   ],
   "source": [
    "venkatesh"
   ]
  },
  {
   "cell_type": "code",
   "execution_count": 31,
   "id": "e90fe2ea",
   "metadata": {},
   "outputs": [
    {
     "data": {
      "text/plain": [
       "['paramesh', 1, 79, 'abc']"
      ]
     },
     "execution_count": 31,
     "metadata": {},
     "output_type": "execute_result"
    }
   ],
   "source": [
    "a=parimala\n",
    "a"
   ]
  },
  {
   "cell_type": "code",
   "execution_count": 34,
   "id": "ead1d3c0",
   "metadata": {},
   "outputs": [
    {
     "data": {
      "text/plain": [
       "3"
      ]
     },
     "execution_count": 34,
     "metadata": {},
     "output_type": "execute_result"
    }
   ],
   "source": [
    "shushanth=[1,2,1,3,4,1,2,3,4,5]\n",
    "shushanth.count(1)\n"
   ]
  },
  {
   "cell_type": "code",
   "execution_count": 37,
   "id": "16e929ba",
   "metadata": {},
   "outputs": [
    {
     "data": {
      "text/plain": [
       "[]"
      ]
     },
     "execution_count": 37,
     "metadata": {},
     "output_type": "execute_result"
    }
   ],
   "source": [
    "shushanth.clear()"
   ]
  },
  {
   "cell_type": "code",
   "execution_count": 41,
   "id": "a7e962ce",
   "metadata": {},
   "outputs": [
    {
     "ename": "NameError",
     "evalue": "name 'shushanth' is not defined",
     "output_type": "error",
     "traceback": [
      "\u001b[1;31m---------------------------------------------------------------------------\u001b[0m",
      "\u001b[1;31mNameError\u001b[0m                                 Traceback (most recent call last)",
      "\u001b[1;32m<ipython-input-41-8536bf43e895>\u001b[0m in \u001b[0;36m<module>\u001b[1;34m\u001b[0m\n\u001b[1;32m----> 1\u001b[1;33m \u001b[1;32mdel\u001b[0m \u001b[0mshushanth\u001b[0m\u001b[1;33m\u001b[0m\u001b[1;33m\u001b[0m\u001b[0m\n\u001b[0m",
      "\u001b[1;31mNameError\u001b[0m: name 'shushanth' is not defined"
     ]
    }
   ],
   "source": [
    "del shushanth"
   ]
  },
  {
   "cell_type": "code",
   "execution_count": 43,
   "id": "4e4a1776",
   "metadata": {},
   "outputs": [
    {
     "data": {
      "text/plain": [
       "0"
      ]
     },
     "execution_count": 43,
     "metadata": {},
     "output_type": "execute_result"
    }
   ],
   "source": [
    "amma=[1,2,1,3,4,2,3,4,]\n",
    "amma.index(1)"
   ]
  },
  {
   "cell_type": "code",
   "execution_count": 44,
   "id": "8ea251c2",
   "metadata": {},
   "outputs": [
    {
     "data": {
      "text/plain": [
       "3"
      ]
     },
     "execution_count": 44,
     "metadata": {},
     "output_type": "execute_result"
    }
   ],
   "source": [
    "amma.index(3)"
   ]
  },
  {
   "cell_type": "code",
   "execution_count": 48,
   "id": "cb895f75",
   "metadata": {},
   "outputs": [
    {
     "data": {
      "text/plain": [
       "[1, 256, 2, 3.3, 'ram']"
      ]
     },
     "execution_count": 48,
     "metadata": {},
     "output_type": "execute_result"
    }
   ],
   "source": [
    "archana"
   ]
  },
  {
   "cell_type": "code",
   "execution_count": 53,
   "id": "83dbc2b3",
   "metadata": {},
   "outputs": [
    {
     "data": {
      "text/plain": [
       "['ram', 3.3, 2, 256, 1]"
      ]
     },
     "execution_count": 53,
     "metadata": {},
     "output_type": "execute_result"
    }
   ],
   "source": [
    "archana.reverse()\n",
    "archana"
   ]
  },
  {
   "cell_type": "code",
   "execution_count": 54,
   "id": "55c7b2be",
   "metadata": {},
   "outputs": [
    {
     "data": {
      "text/plain": [
       "['ram', 3.3, 2, 1]"
      ]
     },
     "execution_count": 54,
     "metadata": {},
     "output_type": "execute_result"
    }
   ],
   "source": [
    "archana.remove(256)\n",
    "archana"
   ]
  },
  {
   "cell_type": "code",
   "execution_count": 55,
   "id": "49cafc7c",
   "metadata": {},
   "outputs": [
    {
     "data": {
      "text/plain": [
       "['ram', 3.3, 2]"
      ]
     },
     "execution_count": 55,
     "metadata": {},
     "output_type": "execute_result"
    }
   ],
   "source": [
    "archana.pop()\n",
    "archana"
   ]
  },
  {
   "cell_type": "code",
   "execution_count": 56,
   "id": "a081e30e",
   "metadata": {},
   "outputs": [
    {
     "data": {
      "text/plain": [
       "['ram', 2]"
      ]
     },
     "execution_count": 56,
     "metadata": {},
     "output_type": "execute_result"
    }
   ],
   "source": [
    "archana.pop(1)\n",
    "archana"
   ]
  },
  {
   "cell_type": "code",
   "execution_count": 57,
   "id": "df8c8ce8",
   "metadata": {},
   "outputs": [
    {
     "data": {
      "text/plain": [
       "[1, 2, 2, 4, 5, 24, 259, 599, 999]"
      ]
     },
     "execution_count": 57,
     "metadata": {},
     "output_type": "execute_result"
    }
   ],
   "source": [
    "akhila=[1,5,2,259,24,999,599,4,2]\n",
    "akhila.sort()\n",
    "akhila"
   ]
  },
  {
   "cell_type": "code",
   "execution_count": 58,
   "id": "e5e1a35c",
   "metadata": {},
   "outputs": [
    {
     "data": {
      "text/plain": [
       "[999, 599, 259, 24, 5, 4, 2, 2, 1]"
      ]
     },
     "execution_count": 58,
     "metadata": {},
     "output_type": "execute_result"
    }
   ],
   "source": [
    "akhila.reverse()\n",
    "akhila"
   ]
  },
  {
   "cell_type": "code",
   "execution_count": 61,
   "id": "682e0584",
   "metadata": {},
   "outputs": [
    {
     "data": {
      "text/plain": [
       "[999, 599, 259, 24, 5, 4, 2, 2, 1]"
      ]
     },
     "execution_count": 61,
     "metadata": {},
     "output_type": "execute_result"
    }
   ],
   "source": [
    "akhila.sort(reverse= True)\n",
    "akhila"
   ]
  },
  {
   "cell_type": "code",
   "execution_count": 62,
   "id": "911e7f81",
   "metadata": {},
   "outputs": [
    {
     "data": {
      "text/plain": [
       "['__add__',\n",
       " '__class__',\n",
       " '__contains__',\n",
       " '__delattr__',\n",
       " '__delitem__',\n",
       " '__dir__',\n",
       " '__doc__',\n",
       " '__eq__',\n",
       " '__format__',\n",
       " '__ge__',\n",
       " '__getattribute__',\n",
       " '__getitem__',\n",
       " '__gt__',\n",
       " '__hash__',\n",
       " '__iadd__',\n",
       " '__imul__',\n",
       " '__init__',\n",
       " '__init_subclass__',\n",
       " '__iter__',\n",
       " '__le__',\n",
       " '__len__',\n",
       " '__lt__',\n",
       " '__mul__',\n",
       " '__ne__',\n",
       " '__new__',\n",
       " '__reduce__',\n",
       " '__reduce_ex__',\n",
       " '__repr__',\n",
       " '__reversed__',\n",
       " '__rmul__',\n",
       " '__setattr__',\n",
       " '__setitem__',\n",
       " '__sizeof__',\n",
       " '__str__',\n",
       " '__subclasshook__',\n",
       " 'append',\n",
       " 'clear',\n",
       " 'copy',\n",
       " 'count',\n",
       " 'extend',\n",
       " 'index',\n",
       " 'insert',\n",
       " 'pop',\n",
       " 'remove',\n",
       " 'reverse',\n",
       " 'sort']"
      ]
     },
     "execution_count": 62,
     "metadata": {},
     "output_type": "execute_result"
    }
   ],
   "source": [
    "dir(list)"
   ]
  },
  {
   "cell_type": "code",
   "execution_count": 63,
   "id": "552dcfff",
   "metadata": {},
   "outputs": [
    {
     "data": {
      "text/plain": [
       "[10, 20, 30, 'akka', 1, 2, 3.3, 'ram', ['ram', 2]]"
      ]
     },
     "execution_count": 63,
     "metadata": {},
     "output_type": "execute_result"
    }
   ],
   "source": [
    "ratna"
   ]
  },
  {
   "cell_type": "code",
   "execution_count": 65,
   "id": "af15ba36",
   "metadata": {},
   "outputs": [
    {
     "data": {
      "text/plain": [
       "['ram', ['ram', 2, 3, 4], 22]"
      ]
     },
     "execution_count": 65,
     "metadata": {},
     "output_type": "execute_result"
    }
   ],
   "source": [
    "ammu=[10, 20, 30, 'akka', 1, 2, 3.3, 'ram', ['ram', 2,3,4],22,45,\"abc\"]\n",
    "ammu[-5:-2]"
   ]
  },
  {
   "cell_type": "code",
   "execution_count": 66,
   "id": "85cad736",
   "metadata": {},
   "outputs": [
    {
     "data": {
      "text/plain": [
       "2"
      ]
     },
     "execution_count": 66,
     "metadata": {},
     "output_type": "execute_result"
    }
   ],
   "source": [
    "ammu[-4][-3]"
   ]
  },
  {
   "cell_type": "code",
   "execution_count": 2,
   "id": "bee974c3",
   "metadata": {},
   "outputs": [
    {
     "name": "stdout",
     "output_type": "stream",
     "text": [
      "1 2 3 4\n"
     ]
    },
    {
     "data": {
      "text/plain": [
       "['1', '2', '3', '4']"
      ]
     },
     "execution_count": 2,
     "metadata": {},
     "output_type": "execute_result"
    }
   ],
   "source": [
    "list=input().split()\n",
    "list"
   ]
  },
  {
   "cell_type": "code",
   "execution_count": 69,
   "id": "373fa0af",
   "metadata": {},
   "outputs": [
    {
     "name": "stdout",
     "output_type": "stream",
     "text": [
      "1 2 3 4 5\n",
      "15\n"
     ]
    }
   ],
   "source": [
    "s1=input().split()\n",
    "a=0\n",
    "for x in s1:\n",
    "    a+=int(x)\n",
    "print(a)"
   ]
  },
  {
   "cell_type": "code",
   "execution_count": 70,
   "id": "c287732f",
   "metadata": {},
   "outputs": [
    {
     "data": {
      "text/plain": [
       "['a', 'b', 'c', 'd']"
      ]
     },
     "execution_count": 70,
     "metadata": {},
     "output_type": "execute_result"
    }
   ],
   "source": [
    "d=[\"a\",\"c\",\"d\",\"b\"]\n",
    "d.sort()\n",
    "d"
   ]
  },
  {
   "cell_type": "markdown",
   "id": "d52e5175",
   "metadata": {},
   "source": [
    "## tuple\n",
    "### .tuples are similar to lists which is used to store the collection of multiple data\n",
    "### .Tuples are immuatable\n",
    "###  .Tuples are ordered\n",
    "###  .represened by paranthesis()"
   ]
  },
  {
   "cell_type": "code",
   "execution_count": 5,
   "id": "b4d4c558",
   "metadata": {},
   "outputs": [
    {
     "data": {
      "text/plain": [
       "3"
      ]
     },
     "execution_count": 5,
     "metadata": {},
     "output_type": "execute_result"
    }
   ],
   "source": [
    "a=(\"a\",1,2,1,3,\"paramesh\")\n",
    "a[4]"
   ]
  },
  {
   "cell_type": "code",
   "execution_count": 3,
   "id": "e5d3a759",
   "metadata": {},
   "outputs": [
    {
     "data": {
      "text/plain": [
       "5"
      ]
     },
     "execution_count": 3,
     "metadata": {},
     "output_type": "execute_result"
    }
   ],
   "source": [
    "len(a)"
   ]
  },
  {
   "cell_type": "code",
   "execution_count": 6,
   "id": "8464648f",
   "metadata": {},
   "outputs": [
    {
     "data": {
      "text/plain": [
       "2"
      ]
     },
     "execution_count": 6,
     "metadata": {},
     "output_type": "execute_result"
    }
   ],
   "source": [
    "a.count(1)"
   ]
  },
  {
   "cell_type": "code",
   "execution_count": 7,
   "id": "b3f0f879",
   "metadata": {},
   "outputs": [
    {
     "data": {
      "text/plain": [
       "5"
      ]
     },
     "execution_count": 7,
     "metadata": {},
     "output_type": "execute_result"
    }
   ],
   "source": [
    "a.index(\"paramesh\")"
   ]
  },
  {
   "cell_type": "code",
   "execution_count": 8,
   "id": "29a6320d",
   "metadata": {},
   "outputs": [
    {
     "data": {
      "text/plain": [
       "(1, 2, 3, 4)"
      ]
     },
     "execution_count": 8,
     "metadata": {},
     "output_type": "execute_result"
    }
   ],
   "source": [
    "a=1,2,3,4\n",
    "a"
   ]
  },
  {
   "cell_type": "code",
   "execution_count": 9,
   "id": "1a268b1f",
   "metadata": {},
   "outputs": [
    {
     "data": {
      "text/plain": [
       "tuple"
      ]
     },
     "execution_count": 9,
     "metadata": {},
     "output_type": "execute_result"
    }
   ],
   "source": [
    "type(a)"
   ]
  },
  {
   "cell_type": "code",
   "execution_count": 12,
   "id": "6888140d",
   "metadata": {},
   "outputs": [
    {
     "data": {
      "text/plain": [
       "list"
      ]
     },
     "execution_count": 12,
     "metadata": {},
     "output_type": "execute_result"
    }
   ],
   "source": [
    "b=list(a)\n",
    "type(b)"
   ]
  },
  {
   "cell_type": "code",
   "execution_count": 16,
   "id": "3ddc0915",
   "metadata": {},
   "outputs": [
    {
     "data": {
      "text/plain": [
       "tuple"
      ]
     },
     "execution_count": 16,
     "metadata": {},
     "output_type": "execute_result"
    }
   ],
   "source": [
    "c=[1,2,3.4,5]\n",
    "d=tuple(c)\n",
    "type(d)"
   ]
  },
  {
   "cell_type": "code",
   "execution_count": 17,
   "id": "076c1484",
   "metadata": {},
   "outputs": [
    {
     "data": {
      "text/plain": [
       "[2, 3.4]"
      ]
     },
     "execution_count": 17,
     "metadata": {},
     "output_type": "execute_result"
    }
   ],
   "source": [
    "c[1:3]"
   ]
  },
  {
   "cell_type": "code",
   "execution_count": 19,
   "id": "eaaa77ca",
   "metadata": {},
   "outputs": [
    {
     "name": "stdout",
     "output_type": "stream",
     "text": [
      "Data Analysis\n"
     ]
    }
   ],
   "source": [
    "#convert the tuple to string Input: \n",
    "t = (\"D\",\"a\",\"t\",\"a\",\" \",\"A\",\"n\",\"a\",\"l\",\"y\",\"s\",\"i\",\"s\") \n",
    "s=\"\"\n",
    "for x in t:\n",
    "    s+=x\n",
    "print(s)"
   ]
  },
  {
   "cell_type": "code",
   "execution_count": 22,
   "id": "5ad4b021",
   "metadata": {},
   "outputs": [
    {
     "ename": "AttributeError",
     "evalue": "'str' object has no attribute 'append'",
     "output_type": "error",
     "traceback": [
      "\u001b[1;31m---------------------------------------------------------------------------\u001b[0m",
      "\u001b[1;31mAttributeError\u001b[0m                            Traceback (most recent call last)",
      "\u001b[1;32m<ipython-input-22-f7c5fb63290f>\u001b[0m in \u001b[0;36m<module>\u001b[1;34m\u001b[0m\n\u001b[0;32m      2\u001b[0m \u001b[0mb\u001b[0m\u001b[1;33m=\u001b[0m\u001b[1;34m\"\"\u001b[0m\u001b[1;33m\u001b[0m\u001b[1;33m\u001b[0m\u001b[0m\n\u001b[0;32m      3\u001b[0m \u001b[1;32mfor\u001b[0m \u001b[0mx\u001b[0m \u001b[1;32min\u001b[0m \u001b[0ms\u001b[0m\u001b[1;33m:\u001b[0m\u001b[1;33m\u001b[0m\u001b[1;33m\u001b[0m\u001b[0m\n\u001b[1;32m----> 4\u001b[1;33m     \u001b[0mb\u001b[0m\u001b[1;33m.\u001b[0m\u001b[0mappend\u001b[0m\u001b[1;33m(\u001b[0m\u001b[0mx\u001b[0m\u001b[1;33m)\u001b[0m\u001b[1;33m\u001b[0m\u001b[1;33m\u001b[0m\u001b[0m\n\u001b[0m\u001b[0;32m      5\u001b[0m \u001b[0mprint\u001b[0m\u001b[1;33m(\u001b[0m\u001b[0mb\u001b[0m\u001b[1;33m)\u001b[0m\u001b[1;33m\u001b[0m\u001b[1;33m\u001b[0m\u001b[0m\n",
      "\u001b[1;31mAttributeError\u001b[0m: 'str' object has no attribute 'append'"
     ]
    }
   ],
   "source": [
    "s=[\"p\",\"a\",\"c\",\"d\"]\n",
    "b=\"\"\n",
    "for x in s:\n",
    "    b.append(x)\n",
    "print(b)"
   ]
  },
  {
   "cell_type": "code",
   "execution_count": 26,
   "id": "f9692ee1",
   "metadata": {},
   "outputs": [
    {
     "name": "stdout",
     "output_type": "stream",
     "text": [
      "[1, 2, 3, 4]\n"
     ]
    }
   ],
   "source": [
    "#unique list\n",
    "input=[1,2,3,4,1,2,3,4,3,2]\n",
    "s=[]\n",
    "for x in input:\n",
    "    if x not in s:\n",
    "        s.append(x)\n",
    "print(s)"
   ]
  },
  {
   "cell_type": "code",
   "execution_count": 11,
   "id": "a4b58045",
   "metadata": {},
   "outputs": [
    {
     "name": "stdout",
     "output_type": "stream",
     "text": [
      "1 2 3 4 5 6 7 8 9 10 11 12 13 14 15 16 17 18 19 20\n",
      "['2', '4', '6', '8', '10', '12', '14', '16', '18', '20']\n",
      "['1', '3', '5', '7', '9', '11', '13', '15', '17', '19']\n"
     ]
    }
   ],
   "source": [
    "#Read a list, seperate the even numbers to even list and odd numbers to odd list\n",
    "list1 = input().split()\n",
    "even=[]\n",
    "odd=[]\n",
    "for x in list1:\n",
    "    if int(x)%2==0:\n",
    "        even.append(x)\n",
    "    else:\n",
    "        odd.append(x)\n",
    "print(even)\n",
    "print(odd)"
   ]
  },
  {
   "cell_type": "code",
   "execution_count": 6,
   "id": "bb45b7c1",
   "metadata": {},
   "outputs": [
    {
     "name": "stdout",
     "output_type": "stream",
     "text": [
      "[60, 80, 100, 120]\n"
     ]
    }
   ],
   "source": [
    "list1=[10,20,30,40]\n",
    "list2=[50,60,70,80]\n",
    "d=[]\n",
    "if len(list1)==len(list2):\n",
    "    for x in range(len(list1)):\n",
    "        s=list1[x]+list2[x]\n",
    "        d.append(s)\n",
    "print(d)"
   ]
  },
  {
   "cell_type": "code",
   "execution_count": null,
   "id": "9f19192a",
   "metadata": {},
   "outputs": [],
   "source": []
  }
 ],
 "metadata": {
  "kernelspec": {
   "display_name": "Python 3",
   "language": "python",
   "name": "python3"
  },
  "language_info": {
   "codemirror_mode": {
    "name": "ipython",
    "version": 3
   },
   "file_extension": ".py",
   "mimetype": "text/x-python",
   "name": "python",
   "nbconvert_exporter": "python",
   "pygments_lexer": "ipython3",
   "version": "3.8.8"
  }
 },
 "nbformat": 4,
 "nbformat_minor": 5
}
