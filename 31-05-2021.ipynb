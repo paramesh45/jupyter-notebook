{
 "cells": [
  {
   "cell_type": "markdown",
   "id": "ca1a3a22",
   "metadata": {},
   "source": [
    "### string"
   ]
  },
  {
   "cell_type": "code",
   "execution_count": 2,
   "id": "58eb8df2",
   "metadata": {},
   "outputs": [
    {
     "data": {
      "text/plain": [
       "'on pro'"
      ]
     },
     "execution_count": 2,
     "metadata": {},
     "output_type": "execute_result"
    }
   ],
   "source": [
    "# forward indexing\n",
    "a=\"python programming\"\n",
    "a[4:10]"
   ]
  },
  {
   "cell_type": "code",
   "execution_count": 3,
   "id": "38f74b0c",
   "metadata": {},
   "outputs": [
    {
     "data": {
      "text/plain": [
       "'python programming'"
      ]
     },
     "execution_count": 3,
     "metadata": {},
     "output_type": "execute_result"
    }
   ],
   "source": [
    "a[:]"
   ]
  },
  {
   "cell_type": "code",
   "execution_count": 5,
   "id": "1f69d5d1",
   "metadata": {},
   "outputs": [
    {
     "data": {
      "text/plain": [
       "'orp no'"
      ]
     },
     "execution_count": 5,
     "metadata": {},
     "output_type": "execute_result"
    }
   ],
   "source": [
    "#reverse indexing\n",
    "a=\"python programming\"\n",
    "a[-9:-15:-1]"
   ]
  },
  {
   "cell_type": "code",
   "execution_count": 7,
   "id": "b9c47f0b",
   "metadata": {},
   "outputs": [
    {
     "data": {
      "text/plain": [
       "'on pro'"
      ]
     },
     "execution_count": 7,
     "metadata": {},
     "output_type": "execute_result"
    }
   ],
   "source": [
    "a=\"python programming\"\n",
    "a[-14:-8]"
   ]
  },
  {
   "cell_type": "code",
   "execution_count": 8,
   "id": "789a6296",
   "metadata": {},
   "outputs": [
    {
     "data": {
      "text/plain": [
       "'gnimmargorp nohtyp'"
      ]
     },
     "execution_count": 8,
     "metadata": {},
     "output_type": "execute_result"
    }
   ],
   "source": [
    "a[::-1]"
   ]
  },
  {
   "cell_type": "code",
   "execution_count": 10,
   "id": "10c4bac4",
   "metadata": {},
   "outputs": [
    {
     "data": {
      "text/plain": [
       "'Python programming'"
      ]
     },
     "execution_count": 10,
     "metadata": {},
     "output_type": "execute_result"
    }
   ],
   "source": [
    "a=\"python programming\" # covert first letter into capital\n",
    "a.capitalize()"
   ]
  },
  {
   "cell_type": "code",
   "execution_count": 11,
   "id": "19a33bcc",
   "metadata": {},
   "outputs": [
    {
     "data": {
      "text/plain": [
       "'Python Programming'"
      ]
     },
     "execution_count": 11,
     "metadata": {},
     "output_type": "execute_result"
    }
   ],
   "source": [
    "a=\"python programming\"   # convert every first letter into capital\n",
    "a.title()"
   ]
  },
  {
   "cell_type": "code",
   "execution_count": 13,
   "id": "73155bad",
   "metadata": {},
   "outputs": [
    {
     "data": {
      "text/plain": [
       "'python programming'"
      ]
     },
     "execution_count": 13,
     "metadata": {},
     "output_type": "execute_result"
    }
   ],
   "source": [
    "a=\"PythoN PRograMMing\"   # convert every letter into small letter\n",
    "a.casefold()"
   ]
  },
  {
   "cell_type": "code",
   "execution_count": 14,
   "id": "56ea8730",
   "metadata": {},
   "outputs": [
    {
     "data": {
      "text/plain": [
       "['__add__',\n",
       " '__class__',\n",
       " '__contains__',\n",
       " '__delattr__',\n",
       " '__dir__',\n",
       " '__doc__',\n",
       " '__eq__',\n",
       " '__format__',\n",
       " '__ge__',\n",
       " '__getattribute__',\n",
       " '__getitem__',\n",
       " '__getnewargs__',\n",
       " '__gt__',\n",
       " '__hash__',\n",
       " '__init__',\n",
       " '__init_subclass__',\n",
       " '__iter__',\n",
       " '__le__',\n",
       " '__len__',\n",
       " '__lt__',\n",
       " '__mod__',\n",
       " '__mul__',\n",
       " '__ne__',\n",
       " '__new__',\n",
       " '__reduce__',\n",
       " '__reduce_ex__',\n",
       " '__repr__',\n",
       " '__rmod__',\n",
       " '__rmul__',\n",
       " '__setattr__',\n",
       " '__sizeof__',\n",
       " '__str__',\n",
       " '__subclasshook__',\n",
       " 'capitalize',\n",
       " 'casefold',\n",
       " 'center',\n",
       " 'count',\n",
       " 'encode',\n",
       " 'endswith',\n",
       " 'expandtabs',\n",
       " 'find',\n",
       " 'format',\n",
       " 'format_map',\n",
       " 'index',\n",
       " 'isalnum',\n",
       " 'isalpha',\n",
       " 'isascii',\n",
       " 'isdecimal',\n",
       " 'isdigit',\n",
       " 'isidentifier',\n",
       " 'islower',\n",
       " 'isnumeric',\n",
       " 'isprintable',\n",
       " 'isspace',\n",
       " 'istitle',\n",
       " 'isupper',\n",
       " 'join',\n",
       " 'ljust',\n",
       " 'lower',\n",
       " 'lstrip',\n",
       " 'maketrans',\n",
       " 'partition',\n",
       " 'replace',\n",
       " 'rfind',\n",
       " 'rindex',\n",
       " 'rjust',\n",
       " 'rpartition',\n",
       " 'rsplit',\n",
       " 'rstrip',\n",
       " 'split',\n",
       " 'splitlines',\n",
       " 'startswith',\n",
       " 'strip',\n",
       " 'swapcase',\n",
       " 'title',\n",
       " 'translate',\n",
       " 'upper',\n",
       " 'zfill']"
      ]
     },
     "execution_count": 14,
     "metadata": {},
     "output_type": "execute_result"
    }
   ],
   "source": [
    "dir(str)"
   ]
  },
  {
   "cell_type": "code",
   "execution_count": 16,
   "id": "2420deb0",
   "metadata": {},
   "outputs": [
    {
     "data": {
      "text/plain": [
       "'       python       '"
      ]
     },
     "execution_count": 16,
     "metadata": {},
     "output_type": "execute_result"
    }
   ],
   "source": [
    "a=\"python\"\n",
    "a.center(20)"
   ]
  },
  {
   "cell_type": "code",
   "execution_count": 17,
   "id": "975f2e7c",
   "metadata": {},
   "outputs": [
    {
     "data": {
      "text/plain": [
       "'*******python*******'"
      ]
     },
     "execution_count": 17,
     "metadata": {},
     "output_type": "execute_result"
    }
   ],
   "source": [
    "a=\"python\"\n",
    "a.center(20,\"*\")"
   ]
  },
  {
   "cell_type": "code",
   "execution_count": 21,
   "id": "4eda0339",
   "metadata": {},
   "outputs": [
    {
     "name": "stdout",
     "output_type": "stream",
     "text": [
      "python program is a developing language\n"
     ]
    }
   ],
   "source": [
    "print(\"python{} is a developing{}\".format(\" program\",\" language\"))"
   ]
  },
  {
   "cell_type": "code",
   "execution_count": 22,
   "id": "76665f29",
   "metadata": {},
   "outputs": [
    {
     "data": {
      "text/plain": [
       "18"
      ]
     },
     "execution_count": 22,
     "metadata": {},
     "output_type": "execute_result"
    }
   ],
   "source": [
    "a=\"python programming\"\n",
    "len(a)"
   ]
  },
  {
   "cell_type": "code",
   "execution_count": 23,
   "id": "db007354",
   "metadata": {},
   "outputs": [
    {
     "data": {
      "text/plain": [
       "5"
      ]
     },
     "execution_count": 23,
     "metadata": {},
     "output_type": "execute_result"
    }
   ],
   "source": [
    "a=\"python programming\"\n",
    "a.index(\"n\")"
   ]
  },
  {
   "cell_type": "code",
   "execution_count": 29,
   "id": "90e52610",
   "metadata": {},
   "outputs": [
    {
     "name": "stdout",
     "output_type": "stream",
     "text": [
      "3\n",
      "3\n"
     ]
    }
   ],
   "source": [
    "a=\"python programming paramesh\"\n",
    "print(a.count(\"p\"))\n",
    "print(a.count(\"a\"))"
   ]
  },
  {
   "cell_type": "code",
   "execution_count": 30,
   "id": "fd12ac30",
   "metadata": {},
   "outputs": [
    {
     "data": {
      "text/plain": [
       "'python'"
      ]
     },
     "execution_count": 30,
     "metadata": {},
     "output_type": "execute_result"
    }
   ],
   "source": [
    "a=\"PYTHON\"     # convert all in small\n",
    "a.lower()"
   ]
  },
  {
   "cell_type": "code",
   "execution_count": 31,
   "id": "323a10d4",
   "metadata": {},
   "outputs": [
    {
     "data": {
      "text/plain": [
       "'PYTHON PROGRAMMING'"
      ]
     },
     "execution_count": 31,
     "metadata": {},
     "output_type": "execute_result"
    }
   ],
   "source": [
    "a=\"python programming\"\n",
    "a.upper()"
   ]
  },
  {
   "cell_type": "code",
   "execution_count": 32,
   "id": "b416834a",
   "metadata": {},
   "outputs": [
    {
     "data": {
      "text/plain": [
       "'pYTHON proGRAMMINg'"
      ]
     },
     "execution_count": 32,
     "metadata": {},
     "output_type": "execute_result"
    }
   ],
   "source": [
    "a=\"Python PROgramminG\"  # convert small into big or big into small\n",
    "a.swapcase()"
   ]
  },
  {
   "cell_type": "code",
   "execution_count": 35,
   "id": "9cc19984",
   "metadata": {},
   "outputs": [
    {
     "data": {
      "text/plain": [
       "'python programming is a developing language'"
      ]
     },
     "execution_count": 35,
     "metadata": {},
     "output_type": "execute_result"
    }
   ],
   "source": [
    "a=\"python programming language\"\n",
    "a.replace(\"language\",\"is a developing language\")"
   ]
  },
  {
   "cell_type": "code",
   "execution_count": 36,
   "id": "b001e786",
   "metadata": {},
   "outputs": [
    {
     "data": {
      "text/plain": [
       "'python programming language'"
      ]
     },
     "execution_count": 36,
     "metadata": {},
     "output_type": "execute_result"
    }
   ],
   "source": [
    "a"
   ]
  },
  {
   "cell_type": "code",
   "execution_count": 37,
   "id": "311f5712",
   "metadata": {},
   "outputs": [
    {
     "data": {
      "text/plain": [
       "True"
      ]
     },
     "execution_count": 37,
     "metadata": {},
     "output_type": "execute_result"
    }
   ],
   "source": [
    "a=\"python programming\"\n",
    "a.startswith(\"python\")"
   ]
  },
  {
   "cell_type": "code",
   "execution_count": 39,
   "id": "db067cf4",
   "metadata": {},
   "outputs": [
    {
     "data": {
      "text/plain": [
       "True"
      ]
     },
     "execution_count": 39,
     "metadata": {},
     "output_type": "execute_result"
    }
   ],
   "source": [
    "a=\"python programming is a developing language\"\n",
    "a.startswith(\"is\",19)"
   ]
  },
  {
   "cell_type": "code",
   "execution_count": 40,
   "id": "fa2c2cda",
   "metadata": {},
   "outputs": [
    {
     "data": {
      "text/plain": [
       "['python', 'programming', 'is', 'a', 'developing', 'language']"
      ]
     },
     "execution_count": 40,
     "metadata": {},
     "output_type": "execute_result"
    }
   ],
   "source": [
    "a=\"python programming is a developing language\"\n",
    "a.split()"
   ]
  },
  {
   "cell_type": "code",
   "execution_count": 45,
   "id": "9b551dcf",
   "metadata": {},
   "outputs": [
    {
     "name": "stdout",
     "output_type": "stream",
     "text": [
      "['python programming is a developing language']\n",
      "['python programming language']\n"
     ]
    }
   ],
   "source": [
    "a=\"python programming is a developing language\"\n",
    "b=\"python programming language\"\n",
    "print(a.splitlines())\n",
    "print(b.splitlines())"
   ]
  },
  {
   "cell_type": "code",
   "execution_count": 48,
   "id": "2bd3acd1",
   "metadata": {},
   "outputs": [
    {
     "data": {
      "text/plain": [
       "True"
      ]
     },
     "execution_count": 48,
     "metadata": {},
     "output_type": "execute_result"
    }
   ],
   "source": [
    "a=\"pythonprogramminglanguage\"\n",
    "a.isalpha()"
   ]
  },
  {
   "cell_type": "code",
   "execution_count": 49,
   "id": "b8a0d4d0",
   "metadata": {},
   "outputs": [
    {
     "data": {
      "text/plain": [
       "True"
      ]
     },
     "execution_count": 49,
     "metadata": {},
     "output_type": "execute_result"
    }
   ],
   "source": [
    "a=\"0123478596\"\n",
    "a.isdigit()"
   ]
  },
  {
   "cell_type": "code",
   "execution_count": 51,
   "id": "593bc4be",
   "metadata": {},
   "outputs": [
    {
     "data": {
      "text/plain": [
       "True"
      ]
     },
     "execution_count": 51,
     "metadata": {},
     "output_type": "execute_result"
    }
   ],
   "source": [
    "a=\"pythonprogramminglanguage423023\"\n",
    "a.isalnum()\n"
   ]
  },
  {
   "cell_type": "code",
   "execution_count": 53,
   "id": "574d2d09",
   "metadata": {},
   "outputs": [
    {
     "data": {
      "text/plain": [
       "True"
      ]
     },
     "execution_count": 53,
     "metadata": {},
     "output_type": "execute_result"
    }
   ],
   "source": [
    "a=\"     \"\n",
    "a.isspace()"
   ]
  },
  {
   "cell_type": "code",
   "execution_count": 54,
   "id": "5ffb7a66",
   "metadata": {},
   "outputs": [
    {
     "data": {
      "text/plain": [
       "7"
      ]
     },
     "execution_count": 54,
     "metadata": {},
     "output_type": "execute_result"
    }
   ],
   "source": [
    "a=\"python programming language\"\n",
    "a.rindex(\"p\")"
   ]
  },
  {
   "cell_type": "code",
   "execution_count": 55,
   "id": "b2dcd9e7",
   "metadata": {},
   "outputs": [
    {
     "data": {
      "text/plain": [
       "4"
      ]
     },
     "execution_count": 55,
     "metadata": {},
     "output_type": "execute_result"
    }
   ],
   "source": [
    "a=\"python programming language\"\n",
    "a.find(\"o\")"
   ]
  },
  {
   "cell_type": "code",
   "execution_count": 56,
   "id": "32088159",
   "metadata": {},
   "outputs": [
    {
     "data": {
      "text/plain": [
       "9"
      ]
     },
     "execution_count": 56,
     "metadata": {},
     "output_type": "execute_result"
    }
   ],
   "source": [
    "a=\"python programming language\"\n",
    "a.rfind(\"o\")"
   ]
  },
  {
   "cell_type": "code",
   "execution_count": 61,
   "id": "549d7a87",
   "metadata": {},
   "outputs": [
    {
     "data": {
      "text/plain": [
       "('python', ' ', 'programming language')"
      ]
     },
     "execution_count": 61,
     "metadata": {},
     "output_type": "execute_result"
    }
   ],
   "source": [
    "a=\"python programming language\"\n",
    "a.partition(\" \")"
   ]
  },
  {
   "cell_type": "code",
   "execution_count": 62,
   "id": "90728158",
   "metadata": {},
   "outputs": [
    {
     "data": {
      "text/plain": [
       "True"
      ]
     },
     "execution_count": 62,
     "metadata": {},
     "output_type": "execute_result"
    }
   ],
   "source": [
    "a=\"python programming language is\"\n",
    "a.endswith(\"is\")"
   ]
  },
  {
   "cell_type": "code",
   "execution_count": 65,
   "id": "7326f569",
   "metadata": {},
   "outputs": [
    {
     "data": {
      "text/plain": [
       "True"
      ]
     },
     "execution_count": 65,
     "metadata": {},
     "output_type": "execute_result"
    }
   ],
   "source": [
    "a=\"!!@@##aa12\"\n",
    "a.isascii()"
   ]
  },
  {
   "cell_type": "code",
   "execution_count": 3,
   "id": "24fabe5d",
   "metadata": {},
   "outputs": [
    {
     "name": "stdout",
     "output_type": "stream",
     "text": [
      "enter char in keyboard:ACDE  fghu  1234  !@#$\n",
      "uppercase character count: 4\n",
      "lowercase character count: 4\n",
      "digits character count: 4\n",
      "special  character count: 4\n",
      "space character count: 6\n"
     ]
    }
   ],
   "source": [
    "# task:2\n",
    "a=input(\"enter char in keyboard:\")\n",
    "uppercase=0\n",
    "lowercase=0\n",
    "digits=0\n",
    "special_char=0\n",
    "space=0\n",
    "for x in a:\n",
    "    if x.isupper():\n",
    "        uppercase=uppercase+1\n",
    "    elif x.islower():\n",
    "        lowercase+=1\n",
    "    elif x.isdigit():\n",
    "        digits+=1\n",
    "    elif x.isspace():\n",
    "       space+=1\n",
    "    else:\n",
    "        special_char+=1\n",
    "if uppercase>0:\n",
    "    print(\"uppercase character count:\",uppercase)\n",
    "if lowercase>0:\n",
    "    print(\"lowercase character count:\",lowercase)\n",
    "if digits>0:\n",
    "    print(\"digits character count:\",digits)\n",
    "if special_char>0:\n",
    "    print(\"special  character count:\",special_char)\n",
    "if space>0:\n",
    "    print(\"space character count:\",space)"
   ]
  },
  {
   "cell_type": "code",
   "execution_count": 68,
   "id": "e4d3b956",
   "metadata": {},
   "outputs": [
    {
     "name": "stdout",
     "output_type": "stream",
     "text": [
      "enter anythingab123cd4efd\n",
      "10\n"
     ]
    }
   ],
   "source": [
    "#  task:1\n",
    "paramesh=input(\"enter anything\")\n",
    "sum=0\n",
    "for x in paramesh:\n",
    "    if x.isdigit():\n",
    "        sum+=int(x)\n",
    "        # z=int(y)\n",
    "        # sum+=z\n",
    "print(sum)"
   ]
  },
  {
   "cell_type": "code",
   "execution_count": 69,
   "id": "a91f2da5",
   "metadata": {},
   "outputs": [
    {
     "data": {
      "text/plain": [
       "'online Data Analysis training'"
      ]
     },
     "execution_count": 69,
     "metadata": {},
     "output_type": "execute_result"
    }
   ],
   "source": [
    "var1 = \"online training\"\n",
    "var2 = \"Data Analysis\"\n",
    "var1[:7] + var2 + var1[6:]"
   ]
  },
  {
   "cell_type": "code",
   "execution_count": 71,
   "id": "5ed20f09",
   "metadata": {},
   "outputs": [
    {
     "data": {
      "text/plain": [
       "['python p', 'og', 'amming']"
      ]
     },
     "execution_count": 71,
     "metadata": {},
     "output_type": "execute_result"
    }
   ],
   "source": [
    "a=\"python programming\"\n",
    "a.split(\"r\")"
   ]
  },
  {
   "cell_type": "code",
   "execution_count": 73,
   "id": "031bff29",
   "metadata": {},
   "outputs": [
    {
     "data": {
      "text/plain": [
       "'paramesh reddy'"
      ]
     },
     "execution_count": 73,
     "metadata": {},
     "output_type": "execute_result"
    }
   ],
   "source": [
    "a=[\"paramesh\",\"reddy\"]\n",
    "b=\" \"\n",
    "b.join(a)"
   ]
  },
  {
   "cell_type": "code",
   "execution_count": 74,
   "id": "0a08e339",
   "metadata": {},
   "outputs": [
    {
     "data": {
      "text/plain": [
       "'000000000000paramesh'"
      ]
     },
     "execution_count": 74,
     "metadata": {},
     "output_type": "execute_result"
    }
   ],
   "source": [
    "a=\"paramesh\"\n",
    "a.zfill(20)\n"
   ]
  },
  {
   "cell_type": "code",
   "execution_count": 76,
   "id": "749ee32f",
   "metadata": {},
   "outputs": [
    {
     "data": {
      "text/plain": [
       "'pythonprogramminglanguage'"
      ]
     },
     "execution_count": 76,
     "metadata": {},
     "output_type": "execute_result"
    }
   ],
   "source": [
    "a=\"pythonprogramminglanguage\"\n",
    "a.zfill(10)"
   ]
  },
  {
   "cell_type": "code",
   "execution_count": 80,
   "id": "1d76d1f3",
   "metadata": {},
   "outputs": [
    {
     "name": "stdout",
     "output_type": "stream",
     "text": [
      "p\n",
      "y\n",
      "t\n",
      "h\n",
      "o\n",
      "n\n",
      "p\n",
      "r\n",
      "o\n",
      "g\n",
      "r\n",
      "a\n"
     ]
    }
   ],
   "source": [
    "a=\"pythonprogramminglanguage\"\n",
    "for x in a:\n",
    "    if x==\"m\":\n",
    "        break\n",
    "    else:\n",
    "        print(x)"
   ]
  },
  {
   "cell_type": "code",
   "execution_count": 81,
   "id": "b4234079",
   "metadata": {},
   "outputs": [
    {
     "name": "stdout",
     "output_type": "stream",
     "text": [
      "p\n",
      "y\n",
      "t\n",
      "h\n",
      "o\n",
      "n\n",
      "p\n",
      "r\n",
      "o\n",
      "g\n",
      "r\n",
      "a\n",
      "i\n",
      "n\n",
      "g\n",
      "l\n",
      "a\n",
      "n\n",
      "g\n",
      "u\n",
      "a\n",
      "g\n",
      "e\n"
     ]
    }
   ],
   "source": [
    "a=\"pythonprogramminglanguage\"\n",
    "for x in a:\n",
    "    if x==\"m\":\n",
    "        continue\n",
    "    else:\n",
    "        print(x)"
   ]
  }
 ],
 "metadata": {
  "kernelspec": {
   "display_name": "Python 3",
   "language": "python",
   "name": "python3"
  },
  "language_info": {
   "codemirror_mode": {
    "name": "ipython",
    "version": 3
   },
   "file_extension": ".py",
   "mimetype": "text/x-python",
   "name": "python",
   "nbconvert_exporter": "python",
   "pygments_lexer": "ipython3",
   "version": "3.8.8"
  }
 },
 "nbformat": 4,
 "nbformat_minor": 5
}
