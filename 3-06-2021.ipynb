{
 "cells": [
  {
   "cell_type": "markdown",
   "id": "ff399b99",
   "metadata": {},
   "source": [
    "### .Dictionary\n",
    "#### .collection of multiple data\n",
    "#### .Unordered\n",
    "#### .key:value (item) pairs are present and represented by braces{}\n",
    "#### .keys are unique"
   ]
  },
  {
   "cell_type": "code",
   "execution_count": 1,
   "id": "e301d0c0",
   "metadata": {},
   "outputs": [],
   "source": [
    "d={}"
   ]
  },
  {
   "cell_type": "code",
   "execution_count": 2,
   "id": "1e5766bb",
   "metadata": {},
   "outputs": [
    {
     "data": {
      "text/plain": [
       "dict"
      ]
     },
     "execution_count": 2,
     "metadata": {},
     "output_type": "execute_result"
    }
   ],
   "source": [
    "type(d)"
   ]
  },
  {
   "cell_type": "code",
   "execution_count": 3,
   "id": "ee9960b5",
   "metadata": {},
   "outputs": [
    {
     "data": {
      "text/plain": [
       "{1: 'paramesh'}"
      ]
     },
     "execution_count": 3,
     "metadata": {},
     "output_type": "execute_result"
    }
   ],
   "source": [
    "d[1]=\"paramesh\"\n",
    "d"
   ]
  },
  {
   "cell_type": "code",
   "execution_count": 4,
   "id": "7ecc9fc3",
   "metadata": {},
   "outputs": [
    {
     "data": {
      "text/plain": [
       "{1: 'paramesh', 'akhila': 'shushanth'}"
      ]
     },
     "execution_count": 4,
     "metadata": {},
     "output_type": "execute_result"
    }
   ],
   "source": [
    "d[\"akhila\"]=\"shushanth\"\n",
    "d"
   ]
  },
  {
   "cell_type": "code",
   "execution_count": 5,
   "id": "08082b76",
   "metadata": {},
   "outputs": [
    {
     "data": {
      "text/plain": [
       "{1: 'paramesh', 'akhila': 'shushanth', 45.0: 'parimala', 50.55: 'abc'}"
      ]
     },
     "execution_count": 5,
     "metadata": {},
     "output_type": "execute_result"
    }
   ],
   "source": [
    "d[45.00]=\"parimala\"\n",
    "d[50.55]=\"abc\"\n",
    "d"
   ]
  },
  {
   "cell_type": "code",
   "execution_count": 6,
   "id": "9650d986",
   "metadata": {},
   "outputs": [
    {
     "data": {
      "text/plain": [
       "'abc'"
      ]
     },
     "execution_count": 6,
     "metadata": {},
     "output_type": "execute_result"
    }
   ],
   "source": [
    "d[50.55]"
   ]
  },
  {
   "cell_type": "code",
   "execution_count": 7,
   "id": "c2ebe818",
   "metadata": {},
   "outputs": [
    {
     "data": {
      "text/plain": [
       "{1: 'khyathi', 'akhila': 'shushanth', 45.0: 'parimala', 50.55: 'abc'}"
      ]
     },
     "execution_count": 7,
     "metadata": {},
     "output_type": "execute_result"
    }
   ],
   "source": [
    "d[1]=\"khyathi\"\n",
    "d"
   ]
  },
  {
   "cell_type": "code",
   "execution_count": 8,
   "id": "9081241a",
   "metadata": {},
   "outputs": [
    {
     "data": {
      "text/plain": [
       "{1: 'khyathi',\n",
       " 'akhila': 'shushanth',\n",
       " 45.0: 'parimala',\n",
       " 50.55: 'abc',\n",
       " 60: [1, 2, '3', 'akhi']}"
      ]
     },
     "execution_count": 8,
     "metadata": {},
     "output_type": "execute_result"
    }
   ],
   "source": [
    "d[60]=[1,2,\"3\",\"akhi\"]\n",
    "d"
   ]
  },
  {
   "cell_type": "code",
   "execution_count": 9,
   "id": "11be9a90",
   "metadata": {},
   "outputs": [
    {
     "name": "stdout",
     "output_type": "stream",
     "text": [
      "dict_items([(1, 'khyathi'), ('akhila', 'shushanth'), (45.0, 'parimala'), (50.55, 'abc'), (60, [1, 2, '3', 'akhi'])])\n"
     ]
    }
   ],
   "source": [
    "#to call item\n",
    "print(d.items())"
   ]
  },
  {
   "cell_type": "code",
   "execution_count": 10,
   "id": "e7f5d1fe",
   "metadata": {},
   "outputs": [
    {
     "name": "stdout",
     "output_type": "stream",
     "text": [
      "dict_keys([1, 'akhila', 45.0, 50.55, 60])\n"
     ]
    }
   ],
   "source": [
    "#by calling keys we get keys\n",
    "print(d.keys())"
   ]
  },
  {
   "cell_type": "code",
   "execution_count": 11,
   "id": "570094c8",
   "metadata": {},
   "outputs": [
    {
     "name": "stdout",
     "output_type": "stream",
     "text": [
      "dict_values(['khyathi', 'shushanth', 'parimala', 'abc', [1, 2, '3', 'akhi']])\n"
     ]
    }
   ],
   "source": [
    "print(d.values())"
   ]
  },
  {
   "cell_type": "code",
   "execution_count": 12,
   "id": "dd3447fe",
   "metadata": {},
   "outputs": [
    {
     "data": {
      "text/plain": [
       "['__class__',\n",
       " '__contains__',\n",
       " '__delattr__',\n",
       " '__delitem__',\n",
       " '__dir__',\n",
       " '__doc__',\n",
       " '__eq__',\n",
       " '__format__',\n",
       " '__ge__',\n",
       " '__getattribute__',\n",
       " '__getitem__',\n",
       " '__gt__',\n",
       " '__hash__',\n",
       " '__init__',\n",
       " '__init_subclass__',\n",
       " '__iter__',\n",
       " '__le__',\n",
       " '__len__',\n",
       " '__lt__',\n",
       " '__ne__',\n",
       " '__new__',\n",
       " '__reduce__',\n",
       " '__reduce_ex__',\n",
       " '__repr__',\n",
       " '__reversed__',\n",
       " '__setattr__',\n",
       " '__setitem__',\n",
       " '__sizeof__',\n",
       " '__str__',\n",
       " '__subclasshook__',\n",
       " 'clear',\n",
       " 'copy',\n",
       " 'fromkeys',\n",
       " 'get',\n",
       " 'items',\n",
       " 'keys',\n",
       " 'pop',\n",
       " 'popitem',\n",
       " 'setdefault',\n",
       " 'update',\n",
       " 'values']"
      ]
     },
     "execution_count": 12,
     "metadata": {},
     "output_type": "execute_result"
    }
   ],
   "source": [
    "dir(dict)"
   ]
  },
  {
   "cell_type": "code",
   "execution_count": 14,
   "id": "20d88f3b",
   "metadata": {},
   "outputs": [
    {
     "data": {
      "text/plain": [
       "{1: 'khyathi',\n",
       " 'akhila': 'shushanth',\n",
       " 45.0: 'parimala',\n",
       " 50.55: 'abc',\n",
       " 60: [1, 2, '3', 'akhi']}"
      ]
     },
     "execution_count": 14,
     "metadata": {},
     "output_type": "execute_result"
    }
   ],
   "source": [
    "c=d.copy()\n",
    "c"
   ]
  },
  {
   "cell_type": "code",
   "execution_count": 15,
   "id": "1069fb1e",
   "metadata": {},
   "outputs": [
    {
     "data": {
      "text/plain": [
       "{1: 'khyathi',\n",
       " 'akhila': 'shushanth',\n",
       " 45.0: 'parimala',\n",
       " 50.55: 'abc',\n",
       " 60: [1, 2, '3', 'akhi']}"
      ]
     },
     "execution_count": 15,
     "metadata": {},
     "output_type": "execute_result"
    }
   ],
   "source": [
    "d"
   ]
  },
  {
   "cell_type": "code",
   "execution_count": 16,
   "id": "26363363",
   "metadata": {},
   "outputs": [
    {
     "data": {
      "text/plain": [
       "{}"
      ]
     },
     "execution_count": 16,
     "metadata": {},
     "output_type": "execute_result"
    }
   ],
   "source": [
    "d.clear()\n",
    "d"
   ]
  },
  {
   "cell_type": "code",
   "execution_count": 17,
   "id": "633c1fbb",
   "metadata": {},
   "outputs": [
    {
     "data": {
      "text/plain": [
       "{}"
      ]
     },
     "execution_count": 17,
     "metadata": {},
     "output_type": "execute_result"
    }
   ],
   "source": [
    "d"
   ]
  },
  {
   "cell_type": "code",
   "execution_count": 18,
   "id": "cdb3abec",
   "metadata": {},
   "outputs": [
    {
     "data": {
      "text/plain": [
       "{1: 'khyathi',\n",
       " 'akhila': 'shushanth',\n",
       " 45.0: 'parimala',\n",
       " 50.55: 'abc',\n",
       " 60: [1, 2, '3', 'akhi']}"
      ]
     },
     "execution_count": 18,
     "metadata": {},
     "output_type": "execute_result"
    }
   ],
   "source": [
    "c"
   ]
  },
  {
   "cell_type": "code",
   "execution_count": 19,
   "id": "8dabd3d4",
   "metadata": {},
   "outputs": [
    {
     "data": {
      "text/plain": [
       "'parimala'"
      ]
     },
     "execution_count": 19,
     "metadata": {},
     "output_type": "execute_result"
    }
   ],
   "source": [
    "c.get(45.0)"
   ]
  },
  {
   "cell_type": "code",
   "execution_count": 20,
   "id": "0fbd63a6",
   "metadata": {},
   "outputs": [
    {
     "data": {
      "text/plain": [
       "[1, 2, '3', 'akhi']"
      ]
     },
     "execution_count": 20,
     "metadata": {},
     "output_type": "execute_result"
    }
   ],
   "source": [
    "c.get(60)"
   ]
  },
  {
   "cell_type": "code",
   "execution_count": 25,
   "id": "fbc8e308",
   "metadata": {},
   "outputs": [
    {
     "data": {
      "text/plain": [
       "{1: 'khyathi',\n",
       " 'akhila': 'shushanth',\n",
       " 45.0: 'parimala',\n",
       " 50.55: 'abc',\n",
       " 60: [1, 2, '3', 'akhi'],\n",
       " 40: 55}"
      ]
     },
     "execution_count": 25,
     "metadata": {},
     "output_type": "execute_result"
    }
   ],
   "source": [
    "c.update({40:55})\n",
    "c"
   ]
  },
  {
   "cell_type": "code",
   "execution_count": 26,
   "id": "5bd2122d",
   "metadata": {},
   "outputs": [
    {
     "data": {
      "text/plain": [
       "{1: 'khyathi',\n",
       " 'akhila': 'shushanth',\n",
       " 45.0: 'amma',\n",
       " 50.55: 'abc',\n",
       " 60: [1, 2, '3', 'akhi'],\n",
       " 40: 55}"
      ]
     },
     "execution_count": 26,
     "metadata": {},
     "output_type": "execute_result"
    }
   ],
   "source": [
    "c.update({45.0:\"amma\"})\n",
    "c"
   ]
  },
  {
   "cell_type": "code",
   "execution_count": 27,
   "id": "d5975649",
   "metadata": {},
   "outputs": [
    {
     "data": {
      "text/plain": [
       "{'akhila': 'shushanth',\n",
       " 45.0: 'amma',\n",
       " 50.55: 'abc',\n",
       " 60: [1, 2, '3', 'akhi'],\n",
       " 40: 55}"
      ]
     },
     "execution_count": 27,
     "metadata": {},
     "output_type": "execute_result"
    }
   ],
   "source": [
    "c.pop(1)\n",
    "c"
   ]
  },
  {
   "cell_type": "code",
   "execution_count": 28,
   "id": "f8a0ed66",
   "metadata": {},
   "outputs": [
    {
     "data": {
      "text/plain": [
       "{'akhila': 'shushanth',\n",
       " 45.0: 'amma',\n",
       " 50.55: 'abc',\n",
       " 60: [1, 2, '3', 'akhi'],\n",
       " 40: 55}"
      ]
     },
     "execution_count": 28,
     "metadata": {},
     "output_type": "execute_result"
    }
   ],
   "source": [
    "c"
   ]
  },
  {
   "cell_type": "code",
   "execution_count": 29,
   "id": "c361b2b0",
   "metadata": {},
   "outputs": [
    {
     "data": {
      "text/plain": [
       "{'akhila': 'shushanth', 45.0: 'amma', 50.55: 'abc', 60: [1, 2, '3', 'akhi']}"
      ]
     },
     "execution_count": 29,
     "metadata": {},
     "output_type": "execute_result"
    }
   ],
   "source": [
    "c.popitem()\n",
    "c"
   ]
  },
  {
   "cell_type": "code",
   "execution_count": 30,
   "id": "c8ff283a",
   "metadata": {},
   "outputs": [
    {
     "data": {
      "text/plain": [
       "{'akhila': 'shushanth', 45.0: 'amma', 50.55: 'abc'}"
      ]
     },
     "execution_count": 30,
     "metadata": {},
     "output_type": "execute_result"
    }
   ],
   "source": [
    "c.popitem()\n",
    "c"
   ]
  },
  {
   "cell_type": "code",
   "execution_count": 32,
   "id": "b48c2383",
   "metadata": {},
   "outputs": [
    {
     "data": {
      "text/plain": [
       "'amma'"
      ]
     },
     "execution_count": 32,
     "metadata": {},
     "output_type": "execute_result"
    }
   ],
   "source": [
    "c.setdefault(45.0) # it returns values if key is in dict orterwise returns none\n"
   ]
  },
  {
   "cell_type": "code",
   "execution_count": 38,
   "id": "24882a71",
   "metadata": {},
   "outputs": [],
   "source": [
    "c.setdefault(99)"
   ]
  },
  {
   "cell_type": "code",
   "execution_count": 39,
   "id": "da8abbea",
   "metadata": {},
   "outputs": [
    {
     "data": {
      "text/plain": [
       "{'akhila': 'shushanth', 45.0: 'amma', 50.55: 'abc', 99: None}"
      ]
     },
     "execution_count": 39,
     "metadata": {},
     "output_type": "execute_result"
    }
   ],
   "source": [
    "c"
   ]
  },
  {
   "cell_type": "code",
   "execution_count": 40,
   "id": "5d256eb3",
   "metadata": {},
   "outputs": [
    {
     "data": {
      "text/plain": [
       "55"
      ]
     },
     "execution_count": 40,
     "metadata": {},
     "output_type": "execute_result"
    }
   ],
   "source": [
    "c.setdefault(89,55)"
   ]
  },
  {
   "cell_type": "code",
   "execution_count": 41,
   "id": "67765d44",
   "metadata": {},
   "outputs": [
    {
     "data": {
      "text/plain": [
       "{'akhila': 'shushanth', 45.0: 'amma', 50.55: 'abc', 99: None, 89: 55}"
      ]
     },
     "execution_count": 41,
     "metadata": {},
     "output_type": "execute_result"
    }
   ],
   "source": [
    "c"
   ]
  },
  {
   "cell_type": "code",
   "execution_count": 42,
   "id": "0bbf4aa7",
   "metadata": {},
   "outputs": [],
   "source": [
    "del d"
   ]
  },
  {
   "cell_type": "code",
   "execution_count": 43,
   "id": "a819a44c",
   "metadata": {},
   "outputs": [
    {
     "ename": "NameError",
     "evalue": "name 'd' is not defined",
     "output_type": "error",
     "traceback": [
      "\u001b[1;31m---------------------------------------------------------------------------\u001b[0m",
      "\u001b[1;31mNameError\u001b[0m                                 Traceback (most recent call last)",
      "\u001b[1;32m<ipython-input-43-e983f374794d>\u001b[0m in \u001b[0;36m<module>\u001b[1;34m\u001b[0m\n\u001b[1;32m----> 1\u001b[1;33m \u001b[0md\u001b[0m\u001b[1;33m\u001b[0m\u001b[1;33m\u001b[0m\u001b[0m\n\u001b[0m",
      "\u001b[1;31mNameError\u001b[0m: name 'd' is not defined"
     ]
    }
   ],
   "source": [
    "d"
   ]
  },
  {
   "cell_type": "code",
   "execution_count": 44,
   "id": "afaf3183",
   "metadata": {},
   "outputs": [
    {
     "data": {
      "text/plain": [
       "{'a': 0, 'b': 0}"
      ]
     },
     "execution_count": 44,
     "metadata": {},
     "output_type": "execute_result"
    }
   ],
   "source": [
    "h = {}\n",
    "h.fromkeys((\"a\",\"b\"),0)"
   ]
  },
  {
   "cell_type": "code",
   "execution_count": 45,
   "id": "cf01e009",
   "metadata": {},
   "outputs": [
    {
     "data": {
      "text/plain": [
       "{'a': 0, 'b': 0}"
      ]
     },
     "execution_count": 45,
     "metadata": {},
     "output_type": "execute_result"
    }
   ],
   "source": [
    "h.fromkeys(\"ab\",0)"
   ]
  },
  {
   "cell_type": "code",
   "execution_count": 46,
   "id": "67ea596b",
   "metadata": {},
   "outputs": [
    {
     "name": "stdout",
     "output_type": "stream",
     "text": [
      "{1: 2, 7: 8, 'a': 78, 'b': 'alphabet'}\n"
     ]
    }
   ],
   "source": [
    "d1 = {1:2,7:8,\"a\":89}\n",
    "d2 = {\"a\":78,\"b\":\"alphabet\"}\n",
    "d ={}\n",
    "for i in d1,d2:\n",
    "    d.update(i)\n",
    "print(d)"
   ]
  },
  {
   "cell_type": "code",
   "execution_count": 47,
   "id": "70f9247c",
   "metadata": {},
   "outputs": [
    {
     "name": "stdout",
     "output_type": "stream",
     "text": [
      "enter no of students2\n",
      "enter nameparamesh\n",
      "enter rollno101\n",
      "enter brancheee\n",
      "enter nameakhila\n",
      "enter rollno102\n",
      "enter branchcse\n",
      "{'101': ['paramesh', 'eee'], '102': ['akhila', 'cse']}\n"
     ]
    }
   ],
   "source": [
    "n = int(input(\"enter no of students\"))\n",
    "k = {}\n",
    "for i in range(n):\n",
    "    name = input(\"enter name\")\n",
    "    rollno = input(\"enter rollno\")\n",
    "    branch = input(\"enter branch\")\n",
    "    k[rollno] = [name,branch]\n",
    "print(k)"
   ]
  },
  {
   "cell_type": "code",
   "execution_count": 48,
   "id": "23e4e4b3",
   "metadata": {},
   "outputs": [
    {
     "data": {
      "text/plain": [
       "{'101': ['paramesh', 'eee'], '102': ['akhila', 'cse']}"
      ]
     },
     "execution_count": 48,
     "metadata": {},
     "output_type": "execute_result"
    }
   ],
   "source": [
    "k"
   ]
  },
  {
   "cell_type": "code",
   "execution_count": 49,
   "id": "263bf1b1",
   "metadata": {},
   "outputs": [
    {
     "name": "stdout",
     "output_type": "stream",
     "text": [
      "enter the rollno to be updated102\n",
      "enter the name to be updatedkhyathi\n",
      "enter the branch to be updatedeee\n",
      "{'101': ['paramesh', 'eee'], '102': ['khyathi', 'eee']}\n"
     ]
    }
   ],
   "source": [
    "rollno = input(\"enter the rollno to be updated\")\n",
    "name = input(\"enter the name to be updated\")\n",
    "branch = input(\"enter the branch to be updated\")\n",
    "k.update({rollno:[name,branch]})\n",
    "print(k)"
   ]
  },
  {
   "cell_type": "code",
   "execution_count": 54,
   "id": "55f74780",
   "metadata": {},
   "outputs": [
    {
     "ename": "SyntaxError",
     "evalue": "invalid syntax (<ipython-input-54-929a8c43b281>, line 1)",
     "output_type": "error",
     "traceback": [
      "\u001b[1;36m  File \u001b[1;32m\"<ipython-input-54-929a8c43b281>\"\u001b[1;36m, line \u001b[1;32m1\u001b[0m\n\u001b[1;33m    k.del(\"102\")\u001b[0m\n\u001b[1;37m      ^\u001b[0m\n\u001b[1;31mSyntaxError\u001b[0m\u001b[1;31m:\u001b[0m invalid syntax\n"
     ]
    }
   ],
   "source": [
    "k.del(\"102\")"
   ]
  },
  {
   "cell_type": "code",
   "execution_count": 52,
   "id": "333c5fae",
   "metadata": {},
   "outputs": [
    {
     "data": {
      "text/plain": [
       "['khyathi', 'eee']"
      ]
     },
     "execution_count": 52,
     "metadata": {},
     "output_type": "execute_result"
    }
   ],
   "source": [
    "k.pop(\"102\")\n"
   ]
  },
  {
   "cell_type": "code",
   "execution_count": 53,
   "id": "451f9732",
   "metadata": {},
   "outputs": [
    {
     "data": {
      "text/plain": [
       "{'101': ['paramesh', 'eee']}"
      ]
     },
     "execution_count": 53,
     "metadata": {},
     "output_type": "execute_result"
    }
   ],
   "source": [
    "k"
   ]
  }
 ],
 "metadata": {
  "kernelspec": {
   "display_name": "Python 3",
   "language": "python",
   "name": "python3"
  },
  "language_info": {
   "codemirror_mode": {
    "name": "ipython",
    "version": 3
   },
   "file_extension": ".py",
   "mimetype": "text/x-python",
   "name": "python",
   "nbconvert_exporter": "python",
   "pygments_lexer": "ipython3",
   "version": "3.8.8"
  }
 },
 "nbformat": 4,
 "nbformat_minor": 5
}
