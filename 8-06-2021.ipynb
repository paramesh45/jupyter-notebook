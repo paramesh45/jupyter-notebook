{
 "cells": [
  {
   "cell_type": "markdown",
   "id": "30ec383b",
   "metadata": {},
   "source": [
    "### Day Objectives\n",
    "#### Comprehesnions\n",
    "- Iterators and Generators\n",
    "- Functional programming\n",
    "- Comprehensions\n",
    "- . It is a process of creating new sequence from existing sequence\n",
    "- Advantage\n",
    "- .Less code and easier to understand\n",
    "- Types of Comprehensions\n",
    "- . List comprehension\n",
    "- .dictionary comprehension\n",
    "- .set comprehension\n",
    "- .generator comprehension"
   ]
  },
  {
   "cell_type": "code",
   "execution_count": 1,
   "id": "6fcc2ce9",
   "metadata": {},
   "outputs": [
    {
     "name": "stdout",
     "output_type": "stream",
     "text": [
      "[2, 4, 6]\n"
     ]
    }
   ],
   "source": [
    "li=[1,2,3,4,5,6,7]\n",
    "s=[]\n",
    "for x in li:\n",
    "    if x%2==0:\n",
    "        s.append(x)\n",
    "print(s)"
   ]
  },
  {
   "cell_type": "code",
   "execution_count": 3,
   "id": "74df52a0",
   "metadata": {},
   "outputs": [
    {
     "data": {
      "text/plain": [
       "[2, 4, 6]"
      ]
     },
     "execution_count": 3,
     "metadata": {},
     "output_type": "execute_result"
    }
   ],
   "source": [
    "li=[1,2,3,4,5,6,7]\n",
    "t=[i for i in li if i%2==0]\n",
    "t"
   ]
  },
  {
   "cell_type": "code",
   "execution_count": 5,
   "id": "5013ec32",
   "metadata": {},
   "outputs": [
    {
     "name": "stdout",
     "output_type": "stream",
     "text": [
      "enter10\n"
     ]
    },
    {
     "data": {
      "text/plain": [
       "[0, 1, 4, 9, 16, 25, 36, 49, 64, 81]"
      ]
     },
     "execution_count": 5,
     "metadata": {},
     "output_type": "execute_result"
    }
   ],
   "source": [
    "z=int(input(\"enter\"))\n",
    "l=[x**2 for x in range(z)]\n",
    "l"
   ]
  },
  {
   "cell_type": "code",
   "execution_count": 6,
   "id": "3636ebfc",
   "metadata": {},
   "outputs": [
    {
     "data": {
      "text/plain": [
       "[0, 'odd', 4, 'odd', 16, 'odd', 36, 'odd', 64, 'odd']"
      ]
     },
     "execution_count": 6,
     "metadata": {},
     "output_type": "execute_result"
    }
   ],
   "source": [
    "li=[0, 1, 4, 9, 16, 25, 36, 49, 64, 81]\n",
    "s=[\"odd\" if x%2!=0  else x for x in li]\n",
    "s"
   ]
  },
  {
   "cell_type": "code",
   "execution_count": 4,
   "id": "b00980a6",
   "metadata": {},
   "outputs": [
    {
     "name": "stdout",
     "output_type": "stream",
     "text": [
      "['good', 'morning', 'welcome', 'to', 'the', 'class']\n"
     ]
    }
   ],
   "source": [
    "a=[\"good morning\",\"welcome to the class\"]\n",
    "s=[]\n",
    "for x in a:\n",
    "    for y in x.split():\n",
    "        s.append(y)\n",
    "print(s)"
   ]
  },
  {
   "cell_type": "code",
   "execution_count": 13,
   "id": "7ecd84e8",
   "metadata": {},
   "outputs": [
    {
     "data": {
      "text/plain": [
       "['good', 'morning', 'welcome', 'to', 'the', 'class']"
      ]
     },
     "execution_count": 13,
     "metadata": {},
     "output_type": "execute_result"
    }
   ],
   "source": [
    "s=[j for i in a for j in i.split()]\n",
    "s"
   ]
  },
  {
   "cell_type": "code",
   "execution_count": 10,
   "id": "0899e584",
   "metadata": {},
   "outputs": [
    {
     "data": {
      "text/plain": [
       "[[1, 2, 3, 4, 5, 6, 7, 8, 9, 10],\n",
       " [2, 4, 6, 8, 10, 12, 14, 16, 18, 20],\n",
       " [3, 6, 9, 12, 15, 18, 21, 24, 27, 30],\n",
       " [4, 8, 12, 16, 20, 24, 28, 32, 36, 40],\n",
       " [5, 10, 15, 20, 25, 30, 35, 40, 45, 50],\n",
       " [6, 12, 18, 24, 30, 36, 42, 48, 54, 60],\n",
       " [7, 14, 21, 28, 35, 42, 49, 56, 63, 70],\n",
       " [8, 16, 24, 32, 40, 48, 56, 64, 72, 80],\n",
       " [9, 18, 27, 36, 45, 54, 63, 72, 81, 90],\n",
       " [10, 20, 30, 40, 50, 60, 70, 80, 90, 100]]"
      ]
     },
     "execution_count": 10,
     "metadata": {},
     "output_type": "execute_result"
    }
   ],
   "source": [
    "s=[[i*j  for i in range(1,11)] for j in range(1,11) ]\n",
    "s"
   ]
  },
  {
   "cell_type": "code",
   "execution_count": 15,
   "id": "9c94f5e7",
   "metadata": {},
   "outputs": [
    {
     "data": {
      "text/plain": [
       "[1, 8, 27, 64, 125, 216, 343]"
      ]
     },
     "execution_count": 15,
     "metadata": {},
     "output_type": "execute_result"
    }
   ],
   "source": [
    "s=[1,2,3,4,5,6,7]\n",
    "z=[x**3 for x in s]\n",
    "z"
   ]
  },
  {
   "cell_type": "code",
   "execution_count": 17,
   "id": "ebf30f42",
   "metadata": {},
   "outputs": [
    {
     "data": {
      "text/plain": [
       "[1, 2, 3, 4, 5, 6, 7, 8, 9, 10]"
      ]
     },
     "execution_count": 17,
     "metadata": {},
     "output_type": "execute_result"
    }
   ],
   "source": [
    "s=[x for x in range(1,11)]\n",
    "s"
   ]
  },
  {
   "cell_type": "markdown",
   "id": "72099d7b",
   "metadata": {},
   "source": [
    "## dict chaparison"
   ]
  },
  {
   "cell_type": "code",
   "execution_count": 18,
   "id": "7b7c5c38",
   "metadata": {},
   "outputs": [
    {
     "data": {
      "text/plain": [
       "{1: 1, 2: 8, 3: 27, 4: 64, 5: 125}"
      ]
     },
     "execution_count": 18,
     "metadata": {},
     "output_type": "execute_result"
    }
   ],
   "source": [
    "dict={x:x**3 for x in range(1,6)}\n",
    "dict"
   ]
  },
  {
   "cell_type": "code",
   "execution_count": 20,
   "id": "a0091bf1",
   "metadata": {},
   "outputs": [
    {
     "data": {
      "text/plain": [
       "{1, 3, 5, 7, 9}"
      ]
     },
     "execution_count": 20,
     "metadata": {},
     "output_type": "execute_result"
    }
   ],
   "source": [
    "a=[1, 2, 3, 4, 5, 6, 7, 8, 9, 10]\n",
    "set={x for x in a if x%2!=0}\n",
    "set"
   ]
  },
  {
   "cell_type": "code",
   "execution_count": 26,
   "id": "9a308041",
   "metadata": {},
   "outputs": [
    {
     "data": {
      "text/plain": [
       "{10, 2, 4, 6, 8, 'odd'}"
      ]
     },
     "execution_count": 26,
     "metadata": {},
     "output_type": "execute_result"
    }
   ],
   "source": [
    "a=[1,2,3,4,5,6,7,8,9,10]\n",
    "set={\"odd\" if x%2!=0 else x for x in a}\n",
    "set"
   ]
  },
  {
   "cell_type": "markdown",
   "id": "71790548",
   "metadata": {},
   "source": [
    "\n",
    "### Iterator\n",
    "-  Which is containing number elements and we can access element as per requirement\n",
    "-  iter and next are the concepts we use in iterators"
   ]
  },
  {
   "cell_type": "code",
   "execution_count": 27,
   "id": "5c8656c8",
   "metadata": {},
   "outputs": [
    {
     "name": "stdout",
     "output_type": "stream",
     "text": [
      "i t e r a t o r "
     ]
    }
   ],
   "source": [
    "a=\"iterator\"\n",
    "for x in a:\n",
    "    print(x,end=\" \")"
   ]
  },
  {
   "cell_type": "code",
   "execution_count": 28,
   "id": "1e90e949",
   "metadata": {},
   "outputs": [
    {
     "data": {
      "text/plain": [
       "'i'"
      ]
     },
     "execution_count": 28,
     "metadata": {},
     "output_type": "execute_result"
    }
   ],
   "source": [
    "a=\"iterator\"\n",
    "b=iter(a)\n",
    "next(b)"
   ]
  },
  {
   "cell_type": "code",
   "execution_count": 29,
   "id": "60c4eaac",
   "metadata": {},
   "outputs": [
    {
     "data": {
      "text/plain": [
       "'t'"
      ]
     },
     "execution_count": 29,
     "metadata": {},
     "output_type": "execute_result"
    }
   ],
   "source": [
    "next(b)"
   ]
  },
  {
   "cell_type": "code",
   "execution_count": 30,
   "id": "d3c4f472",
   "metadata": {},
   "outputs": [
    {
     "data": {
      "text/plain": [
       "'e'"
      ]
     },
     "execution_count": 30,
     "metadata": {},
     "output_type": "execute_result"
    }
   ],
   "source": [
    "next(b)"
   ]
  },
  {
   "cell_type": "markdown",
   "id": "01d32743",
   "metadata": {},
   "source": [
    "### Generators\n",
    "-   Generator is also like function but in place of return we will use yield\n",
    "-   Generators will be used in combination of iterato"
   ]
  },
  {
   "cell_type": "code",
   "execution_count": 43,
   "id": "c5480c0a",
   "metadata": {},
   "outputs": [
    {
     "name": "stdout",
     "output_type": "stream",
     "text": [
      "0\n",
      "2\n",
      "1\n",
      "2\n",
      "3\n"
     ]
    }
   ],
   "source": [
    "def generator():\n",
    "    yield 0\n",
    "    yield 2\n",
    "    yield 1\n",
    "    yield 2\n",
    "    yield 3\n",
    "a=generator()\n",
    "for x in a:\n",
    "    print(x)"
   ]
  },
  {
   "cell_type": "code",
   "execution_count": null,
   "id": "3dc956e5",
   "metadata": {},
   "outputs": [],
   "source": []
  },
  {
   "cell_type": "code",
   "execution_count": null,
   "id": "4ab655f4",
   "metadata": {},
   "outputs": [],
   "source": []
  }
 ],
 "metadata": {
  "kernelspec": {
   "display_name": "Python 3",
   "language": "python",
   "name": "python3"
  },
  "language_info": {
   "codemirror_mode": {
    "name": "ipython",
    "version": 3
   },
   "file_extension": ".py",
   "mimetype": "text/x-python",
   "name": "python",
   "nbconvert_exporter": "python",
   "pygments_lexer": "ipython3",
   "version": "3.8.8"
  }
 },
 "nbformat": 4,
 "nbformat_minor": 5
}
