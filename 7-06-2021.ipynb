{
 "cells": [
  {
   "cell_type": "code",
   "execution_count": 2,
   "id": "c25a4312",
   "metadata": {},
   "outputs": [],
   "source": [
    "import re"
   ]
  },
  {
   "cell_type": "code",
   "execution_count": 2,
   "id": "076dc779",
   "metadata": {},
   "outputs": [
    {
     "data": {
      "text/plain": [
       "<re.Match object; span=(0, 1), match='p'>"
      ]
     },
     "execution_count": 2,
     "metadata": {},
     "output_type": "execute_result"
    }
   ],
   "source": [
    "re.match(\"p\",\"python\")"
   ]
  },
  {
   "cell_type": "raw",
   "id": "2ec78a0e",
   "metadata": {},
   "source": [
    "re.match(\"o\",\"python\")"
   ]
  },
  {
   "cell_type": "code",
   "execution_count": 3,
   "id": "d9389a94",
   "metadata": {},
   "outputs": [
    {
     "data": {
      "text/plain": [
       "<re.Match object; span=(4, 5), match='o'>"
      ]
     },
     "execution_count": 3,
     "metadata": {},
     "output_type": "execute_result"
    }
   ],
   "source": [
    "re.search(\"o\",\"python\")"
   ]
  },
  {
   "cell_type": "code",
   "execution_count": 8,
   "id": "70472ca3",
   "metadata": {},
   "outputs": [
    {
     "data": {
      "text/plain": [
       "<re.Match object; span=(1, 2), match='a'>"
      ]
     },
     "execution_count": 8,
     "metadata": {},
     "output_type": "execute_result"
    }
   ],
   "source": [
    "re.search(\"a\",\"paramesh\")"
   ]
  },
  {
   "cell_type": "code",
   "execution_count": 9,
   "id": "4c9eb009",
   "metadata": {},
   "outputs": [
    {
     "data": {
      "text/plain": [
       "<re.Match object; span=(2, 3), match='t'>"
      ]
     },
     "execution_count": 9,
     "metadata": {},
     "output_type": "execute_result"
    }
   ],
   "source": [
    "re.search(\"t\",\"python\")"
   ]
  },
  {
   "cell_type": "code",
   "execution_count": 5,
   "id": "64ae783e",
   "metadata": {},
   "outputs": [
    {
     "name": "stdout",
     "output_type": "stream",
     "text": [
      "nameParames\n",
      "accept\n"
     ]
    }
   ],
   "source": [
    "#Sirisha - 7 \n",
    "# {} - range \n",
    "# 1. first character upper case\n",
    "# 2. length of string\n",
    "# 3. allows alphabet\n",
    "pattern=\"^[A-Z][a-z]{6}$\"\n",
    "a=input(\"name\")\n",
    "if re.match(pattern,a):\n",
    "    print(\"accept\")\n",
    "else:\n",
    "    print(\"try another\")"
   ]
  },
  {
   "cell_type": "markdown",
   "id": "21e75d25",
   "metadata": {},
   "source": [
    "\n",
    "- Phone number validation\n",
    "  10 digits\n",
    "- 9876543210\n",
    "  allows only digits\n",
    "- starts from 6-9 and length is 10 digits\n",
    "  ^[6-9][0-9]{9}\n",
    "  11 digits\n",
    " - 09876543210\n",
    "  ^[0][6-9][0-9]{9}\n",
    "   12 digits\n",
    "- +91 9876543210\n",
    "  ^[+][9][1][6-9][0-9]{9}"
   ]
  },
  {
   "cell_type": "code",
   "execution_count": 11,
   "id": "3570b364",
   "metadata": {},
   "outputs": [
    {
     "name": "stdout",
     "output_type": "stream",
     "text": [
      "nameParamesh\n",
      "accept\n"
     ]
    }
   ],
   "source": [
    "pattern=\"^[A-Z][a-z]{6,10}$\"\n",
    "a=input(\"name\")\n",
    "if re.match(pattern,a):\n",
    "    print(\"accept\")\n",
    "else:\n",
    "    print(\"try another\")"
   ]
  },
  {
   "cell_type": "code",
   "execution_count": 12,
   "id": "c5007a25",
   "metadata": {},
   "outputs": [
    {
     "name": "stdout",
     "output_type": "stream",
     "text": [
      "nameparamesh\n",
      "try another\n"
     ]
    }
   ],
   "source": [
    "pattern=\"^[A-Z][a-z]{6,10}$\"\n",
    "a=input(\"name\")\n",
    "if re.match(pattern,a):\n",
    "    print(\"accept\")\n",
    "else:\n",
    "    print(\"try another\")"
   ]
  },
  {
   "cell_type": "code",
   "execution_count": 15,
   "id": "315bedaa",
   "metadata": {},
   "outputs": [
    {
     "name": "stdout",
     "output_type": "stream",
     "text": [
      "name9704102350\n",
      "accept\n"
     ]
    }
   ],
   "source": [
    "pattern=\"^[6-9][0-9]{9}$\"\n",
    "a=input(\"name\")\n",
    "if re.match(pattern,a):\n",
    "    print(\"accept\")\n",
    "else:\n",
    "    print(\"try another\")"
   ]
  },
  {
   "cell_type": "code",
   "execution_count": 29,
   "id": "82860295",
   "metadata": {},
   "outputs": [
    {
     "name": "stdout",
     "output_type": "stream",
     "text": [
      "name09704102350\n",
      "accept\n"
     ]
    }
   ],
   "source": [
    "pattern=\"^[0][6-9][0-9]{9}$\"\n",
    "a=input(\"name\")\n",
    "if re.match(pattern,a):\n",
    "    print(\"accept\")\n",
    "else:\n",
    "    print(\"try another\")"
   ]
  },
  {
   "cell_type": "code",
   "execution_count": 27,
   "id": "686dbb0e",
   "metadata": {},
   "outputs": [
    {
     "name": "stdout",
     "output_type": "stream",
     "text": [
      "name+919704102350\n",
      "accept\n"
     ]
    }
   ],
   "source": [
    "pattern=\"^[+][9][1][6-9]{1}[0-9]{9}$\"\n",
    "a=input(\"name\")\n",
    "if re.match(pattern,a):\n",
    "    print(\"accept\")\n",
    "else:\n",
    "    print(\"try another\")"
   ]
  },
  {
   "cell_type": "code",
   "execution_count": 2,
   "id": "b41b2b9e",
   "metadata": {},
   "outputs": [
    {
     "name": "stdout",
     "output_type": "stream",
     "text": [
      "name9704102350\n",
      "accept\n"
     ]
    }
   ],
   "source": [
    "pattern=\"^[6-9][0-9]{9}$|^[0][6-9][0-9]{9}$|^[+][9][1][6-9]{1}[0-9]{9}$\"\n",
    "a=input(\"name\")\n",
    "if re.match(pattern,a):\n",
    "    print(\"accept\")\n",
    "else:\n",
    "    print(\"try another\")"
   ]
  },
  {
   "cell_type": "code",
   "execution_count": 8,
   "id": "2d91241f",
   "metadata": {},
   "outputs": [
    {
     "ename": "SyntaxError",
     "evalue": "invalid syntax (<ipython-input-8-ec5b29aab141>, line 1)",
     "output_type": "error",
     "traceback": [
      "\u001b[1;36m  File \u001b[1;32m\"<ipython-input-8-ec5b29aab141>\"\u001b[1;36m, line \u001b[1;32m1\u001b[0m\n\u001b[1;33m    - Email Validation:\u001b[0m\n\u001b[1;37m            ^\u001b[0m\n\u001b[1;31mSyntaxError\u001b[0m\u001b[1;31m:\u001b[0m invalid syntax\n"
     ]
    }
   ],
   "source": [
    "\n",
    "- Email Validation:\n",
    " . abcdef.h@gmail.com\n",
    "- username\n",
    "abcdef.\n",
    "Accepts all lower case characters, digits, . and _\n",
    "starts with digits or alphabets\n",
    "length ranges from 8 to 32\n",
    "atleast one character should be present after . or _\n",
    "^[a-z0-9][a-z0-9._]{6,30}[a-z0-9]*\n",
    "domain\n",
    "gmail\n",
    "allows alphabet and digits\n",
    "no special characters are allowed\n",
    "range starting from 5 and ending at 12\n",
    "[a-z0-9]{5,12}\n",
    "extension\n",
    "com\n",
    "allows alphabets\n",
    "no special characters or digits are allowed\n",
    "range (2,5)\n",
    "[a-z]{2,5}"
   ]
  },
  {
   "cell_type": "code",
   "execution_count": null,
   "id": "7fb7af9e",
   "metadata": {},
   "outputs": [],
   "source": [
    "pattern = \"^[a-z0-9][a-z0-9._]{6,30}[a-z0-9]* [@][a-z0-9]{5,12}[.][a-z]{2,5} $\"\n"
   ]
  },
  {
   "cell_type": "code",
   "execution_count": 3,
   "id": "a6c91bfc",
   "metadata": {},
   "outputs": [
    {
     "name": "stdout",
     "output_type": "stream",
     "text": [
      "namePara.mesh@46.com\n",
      "try another\n"
     ]
    }
   ],
   "source": [
    "#gmail\n",
    "pattern=\"^[a-z0-9][a-z0-9._]{7,30}[a-z0-9]*[@][0-9a-z]{5,12}[.][a-z]{3,5}$\"\n",
    "a=input(\"name\")\n",
    "if re.match(pattern,a):\n",
    "    print(\"accept\")\n",
    "else:\n",
    "    print(\"try another\")"
   ]
  }
 ],
 "metadata": {
  "kernelspec": {
   "display_name": "Python 3",
   "language": "python",
   "name": "python3"
  },
  "language_info": {
   "codemirror_mode": {
    "name": "ipython",
    "version": 3
   },
   "file_extension": ".py",
   "mimetype": "text/x-python",
   "name": "python",
   "nbconvert_exporter": "python",
   "pygments_lexer": "ipython3",
   "version": "3.8.8"
  }
 },
 "nbformat": 4,
 "nbformat_minor": 5
}
