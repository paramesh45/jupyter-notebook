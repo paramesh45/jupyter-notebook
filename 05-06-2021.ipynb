{
 "cells": [
  {
   "cell_type": "markdown",
   "id": "5ba552ce",
   "metadata": {},
   "source": [
    "package and modules\n",
    "--------------------------------\n",
    "#### .Package\n",
    "    - collection of python modules\n",
    "##### Modules\n",
    "    - group of python files or collection .py files\n",
    "    - code that define functions,classes and variables\n",
    "    - these functions can be accessed by using import"
   ]
  },
  {
   "cell_type": "code",
   "execution_count": 2,
   "id": "41c7d412",
   "metadata": {},
   "outputs": [],
   "source": [
    "import math"
   ]
  },
  {
   "cell_type": "code",
   "execution_count": 6,
   "id": "fcfb7f43",
   "metadata": {},
   "outputs": [
    {
     "data": {
      "text/plain": [
       "['__doc__',\n",
       " '__loader__',\n",
       " '__name__',\n",
       " '__package__',\n",
       " '__spec__',\n",
       " 'acos',\n",
       " 'acosh',\n",
       " 'asin',\n",
       " 'asinh',\n",
       " 'atan',\n",
       " 'atan2',\n",
       " 'atanh',\n",
       " 'ceil',\n",
       " 'comb',\n",
       " 'copysign',\n",
       " 'cos',\n",
       " 'cosh',\n",
       " 'degrees',\n",
       " 'dist',\n",
       " 'e',\n",
       " 'erf',\n",
       " 'erfc',\n",
       " 'exp',\n",
       " 'expm1',\n",
       " 'fabs',\n",
       " 'factorial',\n",
       " 'floor',\n",
       " 'fmod',\n",
       " 'frexp',\n",
       " 'fsum',\n",
       " 'gamma',\n",
       " 'gcd',\n",
       " 'hypot',\n",
       " 'inf',\n",
       " 'isclose',\n",
       " 'isfinite',\n",
       " 'isinf',\n",
       " 'isnan',\n",
       " 'isqrt',\n",
       " 'ldexp',\n",
       " 'lgamma',\n",
       " 'log',\n",
       " 'log10',\n",
       " 'log1p',\n",
       " 'log2',\n",
       " 'modf',\n",
       " 'nan',\n",
       " 'perm',\n",
       " 'pi',\n",
       " 'pow',\n",
       " 'prod',\n",
       " 'radians',\n",
       " 'remainder',\n",
       " 'sin',\n",
       " 'sinh',\n",
       " 'sqrt',\n",
       " 'tan',\n",
       " 'tanh',\n",
       " 'tau',\n",
       " 'trunc']"
      ]
     },
     "execution_count": 6,
     "metadata": {},
     "output_type": "execute_result"
    }
   ],
   "source": [
    "dir(math)"
   ]
  },
  {
   "cell_type": "code",
   "execution_count": 8,
   "id": "dc0e0cd3",
   "metadata": {},
   "outputs": [
    {
     "data": {
      "text/plain": [
       "20"
      ]
     },
     "execution_count": 8,
     "metadata": {},
     "output_type": "execute_result"
    }
   ],
   "source": [
    "math.floor(20.33)"
   ]
  },
  {
   "cell_type": "code",
   "execution_count": 9,
   "id": "e6a525a7",
   "metadata": {},
   "outputs": [
    {
     "data": {
      "text/plain": [
       "21"
      ]
     },
     "execution_count": 9,
     "metadata": {},
     "output_type": "execute_result"
    }
   ],
   "source": [
    "math.ceil(20.45)"
   ]
  },
  {
   "cell_type": "code",
   "execution_count": 11,
   "id": "eb7f0337",
   "metadata": {},
   "outputs": [
    {
     "data": {
      "text/plain": [
       "0.17453292519943295"
      ]
     },
     "execution_count": 11,
     "metadata": {},
     "output_type": "execute_result"
    }
   ],
   "source": [
    "math.radians(10)"
   ]
  },
  {
   "cell_type": "code",
   "execution_count": 12,
   "id": "25086f84",
   "metadata": {},
   "outputs": [
    {
     "data": {
      "text/plain": [
       "3.141592653589793"
      ]
     },
     "execution_count": 12,
     "metadata": {},
     "output_type": "execute_result"
    }
   ],
   "source": [
    "math.pi"
   ]
  },
  {
   "cell_type": "code",
   "execution_count": 14,
   "id": "c151316f",
   "metadata": {},
   "outputs": [
    {
     "data": {
      "text/plain": [
       "<function math.exp(x, /)>"
      ]
     },
     "execution_count": 14,
     "metadata": {},
     "output_type": "execute_result"
    }
   ],
   "source": [
    "math.exp"
   ]
  },
  {
   "cell_type": "code",
   "execution_count": 15,
   "id": "52ee4c45",
   "metadata": {},
   "outputs": [
    {
     "data": {
      "text/plain": [
       "8.0"
      ]
     },
     "execution_count": 15,
     "metadata": {},
     "output_type": "execute_result"
    }
   ],
   "source": [
    "math.pow(2,3)"
   ]
  },
  {
   "cell_type": "code",
   "execution_count": 16,
   "id": "8ee2786c",
   "metadata": {},
   "outputs": [
    {
     "data": {
      "text/plain": [
       "1.4142135623730951"
      ]
     },
     "execution_count": 16,
     "metadata": {},
     "output_type": "execute_result"
    }
   ],
   "source": [
    "math.sqrt(2)"
   ]
  },
  {
   "cell_type": "code",
   "execution_count": 1,
   "id": "f2c1c846",
   "metadata": {},
   "outputs": [],
   "source": [
    "from package import user"
   ]
  },
  {
   "cell_type": "code",
   "execution_count": 5,
   "id": "9051dad1",
   "metadata": {},
   "outputs": [
    {
     "name": "stdout",
     "output_type": "stream",
     "text": [
      "no even\n"
     ]
    }
   ],
   "source": [
    "user.even(21)"
   ]
  },
  {
   "cell_type": "code",
   "execution_count": 2,
   "id": "d927f57c",
   "metadata": {},
   "outputs": [
    {
     "data": {
      "text/plain": [
       "<function package.user.odd(n)>"
      ]
     },
     "execution_count": 2,
     "metadata": {},
     "output_type": "execute_result"
    }
   ],
   "source": [
    "user.odd(21)"
   ]
  },
  {
   "cell_type": "code",
   "execution_count": 2,
   "id": "dadb1b85",
   "metadata": {},
   "outputs": [
    {
     "name": "stdout",
     "output_type": "stream",
     "text": [
      "odd\n"
     ]
    }
   ],
   "source": [
    "user.odd(21)"
   ]
  },
  {
   "cell_type": "code",
   "execution_count": 2,
   "id": "c5d0a77b",
   "metadata": {},
   "outputs": [
    {
     "name": "stdout",
     "output_type": "stream",
     "text": [
      "palindrome\n"
     ]
    }
   ],
   "source": [
    "user.palindrome(\"madam\")"
   ]
  },
  {
   "cell_type": "code",
   "execution_count": 3,
   "id": "879b0dbf",
   "metadata": {},
   "outputs": [
    {
     "name": "stdout",
     "output_type": "stream",
     "text": [
      "not\n"
     ]
    }
   ],
   "source": [
    "user.palindrome(\"paramesh\")"
   ]
  },
  {
   "cell_type": "code",
   "execution_count": 3,
   "id": "31986c9b",
   "metadata": {},
   "outputs": [
    {
     "name": "stdout",
     "output_type": "stream",
     "text": [
      "['__builtins__', '__cached__', '__doc__', '__file__', '__loader__', '__name__', '__package__', '__spec__', 'even', 'odd'] "
     ]
    }
   ],
   "source": [
    "print(dir(user),end=\" \")"
   ]
  },
  {
   "cell_type": "markdown",
   "id": "125936c6",
   "metadata": {},
   "source": [
    "### File handling\n",
    "#####   What is a file\n",
    "#####   What is file handling\n",
    "##### File methods\n",
    "##### File modes\n",
    "##### Use of with statement\n",
    "### .File is a named location on disk or memory used to store related information\n",
    "##### python language which supports file handling\n",
    "###### ex: .ipynb, .py,.pdf,.c,.java,.cpp,.mp3,.mp4,.txt...etc\n",
    "## File handling\n",
    "###### crud\n",
    "###### creating file,reading file, updating file, deleting file\n",
    "### File methods\n",
    "\n",
    "##### .Create files\n",
    "###### .open files\n",
    "###### .work\n",
    "###### .close files\n",
    "\n",
    "### .Syntax\n",
    "####   open(filename,filemode)\n",
    "#### close()\n",
    "#### read(size)\n",
    "##### readlines()\n",
    "### File modes\n",
    "###### r,w,a,r+,w+,a+"
   ]
  },
  {
   "cell_type": "code",
   "execution_count": 5,
   "id": "9799b502",
   "metadata": {},
   "outputs": [
    {
     "name": "stdout",
     "output_type": "stream",
     "text": [
      "opened successfully\n"
     ]
    }
   ],
   "source": [
    "f=open(\"file.txt\")\n",
    "if f:\n",
    "    print(\"opened successfully\")\n",
    "f.close()"
   ]
  },
  {
   "cell_type": "code",
   "execution_count": 10,
   "id": "f8de2e2a",
   "metadata": {},
   "outputs": [
    {
     "name": "stdout",
     "output_type": "stream",
     "text": [
      "\"welcome paramesh to learn data analysis for apssdc  \"\n"
     ]
    }
   ],
   "source": [
    "f=open(\"file.txt\",\"r\")\n",
    "d=f.read()\n",
    "if f:\n",
    "    print(d)\n",
    "f.close()"
   ]
  },
  {
   "cell_type": "code",
   "execution_count": 13,
   "id": "fd5e5500",
   "metadata": {},
   "outputs": [
    {
     "name": "stdout",
     "output_type": "stream",
     "text": [
      "\"welcome p\n"
     ]
    }
   ],
   "source": [
    "f=open(\"file.txt\",\"r\")\n",
    "e=f.read(10)\n",
    "print(e)\n",
    "f.close()"
   ]
  },
  {
   "cell_type": "markdown",
   "id": "ba1f6172",
   "metadata": {},
   "source": [
    "## File objective methods\n",
    "### seek()\n",
    "##### which is used to change the specific position of cursor\n",
    "### tell()\n",
    "##### which is used to get the current position of cursor"
   ]
  },
  {
   "cell_type": "code",
   "execution_count": 19,
   "id": "8570fb59",
   "metadata": {},
   "outputs": [
    {
     "name": "stdout",
     "output_type": "stream",
     "text": [
      "8\n",
      "25\n"
     ]
    }
   ],
   "source": [
    "f=open(\"file.txt\",\"r\")\n",
    "a=f.read(8)\n",
    "print(f.tell())\n",
    "f.seek(25)\n",
    "print(f.tell())\n",
    "f.close()"
   ]
  },
  {
   "cell_type": "code",
   "execution_count": 22,
   "id": "556fef0c",
   "metadata": {},
   "outputs": [],
   "source": [
    "with open(\"file.txt\",\"a\")  as f:\n",
    "    f.write(\"\\n python is advanced programming language\")"
   ]
  },
  {
   "cell_type": "code",
   "execution_count": 24,
   "id": "c2e8f8e8",
   "metadata": {},
   "outputs": [
    {
     "name": "stdout",
     "output_type": "stream",
     "text": [
      "\"welcome paramesh to learn data analysis for apssdc  \"\n",
      " python is advanced programming language\n"
     ]
    }
   ],
   "source": [
    "f=open(\"file.txt\",\"r\")\n",
    "d=f.read()\n",
    "if f:\n",
    "    print(d)\n",
    "f.close()"
   ]
  },
  {
   "cell_type": "code",
   "execution_count": 25,
   "id": "1cdc60f0",
   "metadata": {},
   "outputs": [],
   "source": [
    "with open(\"file.txt\",\"w\") as f:\n",
    "    f.write(\"\\n python is easy to learn\")"
   ]
  },
  {
   "cell_type": "code",
   "execution_count": 26,
   "id": "6556f4e7",
   "metadata": {},
   "outputs": [
    {
     "name": "stdout",
     "output_type": "stream",
     "text": [
      "\n",
      " python is easy to learn\n"
     ]
    }
   ],
   "source": [
    "f=open(\"file.txt\",\"r\")\n",
    "d=f.read()\n",
    "if f:\n",
    "    print(d)\n",
    "f.close()"
   ]
  }
 ],
 "metadata": {
  "kernelspec": {
   "display_name": "Python 3",
   "language": "python",
   "name": "python3"
  },
  "language_info": {
   "codemirror_mode": {
    "name": "ipython",
    "version": 3
   },
   "file_extension": ".py",
   "mimetype": "text/x-python",
   "name": "python",
   "nbconvert_exporter": "python",
   "pygments_lexer": "ipython3",
   "version": "3.8.8"
  }
 },
 "nbformat": 4,
 "nbformat_minor": 5
}
