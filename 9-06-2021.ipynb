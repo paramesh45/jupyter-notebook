{
 "cells": [
  {
   "cell_type": "markdown",
   "id": "ad59d377",
   "metadata": {},
   "source": [
    "\n",
    "#### NumPy:\n",
    "-      NumPy is a python library used for numerical data like working with arrays.\n",
    "-      it consists of Scientific data calculations, Linear algebra, matrices etc"
   ]
  },
  {
   "cell_type": "code",
   "execution_count": 1,
   "id": "ab4084b4",
   "metadata": {},
   "outputs": [],
   "source": [
    "import numpy as np"
   ]
  },
  {
   "cell_type": "code",
   "execution_count": 4,
   "id": "3feba5c8",
   "metadata": {},
   "outputs": [
    {
     "name": "stdout",
     "output_type": "stream",
     "text": [
      "[1 2 3 4 5]\n"
     ]
    }
   ],
   "source": [
    "# 1d array\n",
    "s=np.array([1,2,3,4,5])\n",
    "print(s)"
   ]
  },
  {
   "cell_type": "code",
   "execution_count": 7,
   "id": "c75f35f2",
   "metadata": {},
   "outputs": [
    {
     "name": "stdout",
     "output_type": "stream",
     "text": [
      "6\n"
     ]
    }
   ],
   "source": [
    "s=[1,2,3,4,5,6]\n",
    "d=np.size(s)\n",
    "print(d)"
   ]
  },
  {
   "cell_type": "code",
   "execution_count": 12,
   "id": "3e45c211",
   "metadata": {},
   "outputs": [
    {
     "data": {
      "text/plain": [
       "dtype('int32')"
      ]
     },
     "execution_count": 12,
     "metadata": {},
     "output_type": "execute_result"
    }
   ],
   "source": [
    "a=[1,2,3,4,5,6]\n",
    "b=np.array(a)\n",
    "b.dtype"
   ]
  },
  {
   "cell_type": "code",
   "execution_count": 13,
   "id": "7a25d83a",
   "metadata": {},
   "outputs": [
    {
     "data": {
      "text/plain": [
       "24"
      ]
     },
     "execution_count": 13,
     "metadata": {},
     "output_type": "execute_result"
    }
   ],
   "source": [
    "b.nbytes"
   ]
  },
  {
   "cell_type": "code",
   "execution_count": 14,
   "id": "1ba7d7dc",
   "metadata": {},
   "outputs": [
    {
     "data": {
      "text/plain": [
       "4"
      ]
     },
     "execution_count": 14,
     "metadata": {},
     "output_type": "execute_result"
    }
   ],
   "source": [
    "b.itemsize"
   ]
  },
  {
   "cell_type": "code",
   "execution_count": 15,
   "id": "c5a145d9",
   "metadata": {},
   "outputs": [
    {
     "data": {
      "text/plain": [
       "(6,)"
      ]
     },
     "execution_count": 15,
     "metadata": {},
     "output_type": "execute_result"
    }
   ],
   "source": [
    "b.shape"
   ]
  },
  {
   "cell_type": "code",
   "execution_count": 16,
   "id": "64b298ca",
   "metadata": {},
   "outputs": [
    {
     "data": {
      "text/plain": [
       "1"
      ]
     },
     "execution_count": 16,
     "metadata": {},
     "output_type": "execute_result"
    }
   ],
   "source": [
    "b.ndim"
   ]
  },
  {
   "cell_type": "code",
   "execution_count": 17,
   "id": "15ac216d",
   "metadata": {},
   "outputs": [
    {
     "name": "stdout",
     "output_type": "stream",
     "text": [
      "['1' '23' '45' 'gh']\n"
     ]
    }
   ],
   "source": [
    "b = np.array([1,23,45,\"gh\"])\n",
    "print(b)"
   ]
  },
  {
   "cell_type": "code",
   "execution_count": 18,
   "id": "98f1dead",
   "metadata": {},
   "outputs": [
    {
     "data": {
      "text/plain": [
       "dtype('<U11')"
      ]
     },
     "execution_count": 18,
     "metadata": {},
     "output_type": "execute_result"
    }
   ],
   "source": [
    "b.dtype"
   ]
  },
  {
   "cell_type": "code",
   "execution_count": 19,
   "id": "6bd78618",
   "metadata": {},
   "outputs": [
    {
     "name": "stdout",
     "output_type": "stream",
     "text": [
      "['1' '234' '89.23' 'string']\n"
     ]
    }
   ],
   "source": [
    "\n",
    "k1 = [1,\"234\",89.23,\"string\"]\n",
    "c = np.array(k1)\n",
    "print(c)"
   ]
  },
  {
   "cell_type": "code",
   "execution_count": 20,
   "id": "0082ba38",
   "metadata": {},
   "outputs": [
    {
     "data": {
      "text/plain": [
       "array([1, 3, 5, 7, 9])"
      ]
     },
     "execution_count": 20,
     "metadata": {},
     "output_type": "execute_result"
    }
   ],
   "source": [
    "np.arange(1,10,2)"
   ]
  },
  {
   "cell_type": "code",
   "execution_count": 21,
   "id": "edc4237f",
   "metadata": {},
   "outputs": [
    {
     "name": "stdout",
     "output_type": "stream",
     "text": [
      "[ 1  4  7 10 13 16 19]\n"
     ]
    }
   ],
   "source": [
    "d=np.arange(1,20,3)\n",
    "print(d)"
   ]
  },
  {
   "cell_type": "markdown",
   "id": "63902980",
   "metadata": {},
   "source": [
    "\n",
    "## ndarray Properties:\n",
    "#### .ndim\n",
    "-        returns no of dimensions of an array\n",
    "#### .shape\n",
    "-        returns the no of rows and columns\n",
    "#### .size\n",
    "-        returns the size of an array\n",
    "#### .dtype\n",
    "-        we can specify the dtype like numpy.int32, numpy.int16 and numpy.float64\n",
    "-        we can know the existing dtype\n",
    "#### .itemsize\n",
    "-        returns the size in bytes of each element in an array"
   ]
  },
  {
   "cell_type": "code",
   "execution_count": 22,
   "id": "91753248",
   "metadata": {},
   "outputs": [
    {
     "name": "stdout",
     "output_type": "stream",
     "text": [
      "[1 2 3 4 5 6]\n"
     ]
    }
   ],
   "source": [
    "# append\n",
    "e=[1,2,3]\n",
    "f=np.append(e,[4,5,6])\n",
    "print(f)"
   ]
  },
  {
   "cell_type": "code",
   "execution_count": 35,
   "id": "534486ed",
   "metadata": {},
   "outputs": [
    {
     "name": "stdout",
     "output_type": "stream",
     "text": [
      "[1 2 3 4 5 6]\n"
     ]
    }
   ],
   "source": [
    "z=np.array([1,2,3])\n",
    "print(np.append(z,[4,5,6]))"
   ]
  },
  {
   "cell_type": "code",
   "execution_count": 23,
   "id": "cdfbfcae",
   "metadata": {},
   "outputs": [
    {
     "name": "stdout",
     "output_type": "stream",
     "text": [
      "[ 1.  2.  3.  4.  5.  6.  7.  8.  9. 10.]\n"
     ]
    }
   ],
   "source": [
    "# linspace     # creating an array with in the given range with required number of elements\n",
    "a=np.linspace(1,10,10)\n",
    "print(a)"
   ]
  },
  {
   "cell_type": "code",
   "execution_count": 24,
   "id": "2829d178",
   "metadata": {},
   "outputs": [
    {
     "name": "stdout",
     "output_type": "stream",
     "text": [
      "[1.         1.05263158 1.10526316 1.15789474 1.21052632 1.26315789\n",
      " 1.31578947 1.36842105 1.42105263 1.47368421 1.52631579 1.57894737\n",
      " 1.63157895 1.68421053 1.73684211 1.78947368 1.84210526 1.89473684\n",
      " 1.94736842 2.        ]\n"
     ]
    }
   ],
   "source": [
    "a=np.linspace(1,2,20)\n",
    "print(a)"
   ]
  },
  {
   "cell_type": "code",
   "execution_count": 28,
   "id": "b6427a76",
   "metadata": {},
   "outputs": [
    {
     "name": "stdout",
     "output_type": "stream",
     "text": [
      "[1.00000000e+01 2.97635144e+01 8.85866790e+01 2.63665090e+02\n",
      " 7.84759970e+02 2.33572147e+03 6.95192796e+03 2.06913808e+04\n",
      " 6.15848211e+04 1.83298071e+05 5.45559478e+05 1.62377674e+06\n",
      " 4.83293024e+06 1.43844989e+07 4.28133240e+07 1.27427499e+08\n",
      " 3.79269019e+08 1.12883789e+09 3.35981829e+09 1.00000000e+10]\n"
     ]
    }
   ],
   "source": [
    "b=np.logspace(1,10,20)\n",
    "print(b)"
   ]
  },
  {
   "cell_type": "code",
   "execution_count": 29,
   "id": "865e6898",
   "metadata": {},
   "outputs": [
    {
     "data": {
      "text/plain": [
       "array(['abc', 'abc', 'abc', 'abc', 'abc', 'abc', 'abc', 'abc', 'abc',\n",
       "       'abc'], dtype='<U3')"
      ]
     },
     "execution_count": 29,
     "metadata": {},
     "output_type": "execute_result"
    }
   ],
   "source": [
    "c=np.full(10,\"abc\")     # repeating required no of times with given value\n",
    "c"
   ]
  },
  {
   "cell_type": "code",
   "execution_count": 31,
   "id": "c94e8cfd",
   "metadata": {
    "scrolled": true
   },
   "outputs": [
    {
     "data": {
      "text/plain": [
       "array([0., 0., 0., 0., 0., 0., 0., 0., 0., 0.])"
      ]
     },
     "execution_count": 31,
     "metadata": {},
     "output_type": "execute_result"
    }
   ],
   "source": [
    "s=np.zeros(10)   # fills an array with 0s by requires no of times\n",
    "s"
   ]
  },
  {
   "cell_type": "code",
   "execution_count": 32,
   "id": "0a304f93",
   "metadata": {
    "scrolled": true
   },
   "outputs": [
    {
     "name": "stdout",
     "output_type": "stream",
     "text": [
      "[1. 1. 1. 1. 1. 1. 1. 1. 1. 1. 1. 1. 1. 1. 1. 1. 1. 1. 1. 1.]\n"
     ]
    }
   ],
   "source": [
    "d=np.ones(20)\n",
    "print(d)"
   ]
  },
  {
   "cell_type": "code",
   "execution_count": 38,
   "id": "e8f22d83",
   "metadata": {},
   "outputs": [
    {
     "name": "stdout",
     "output_type": "stream",
     "text": [
      "2\n",
      "(3, 3)\n",
      "int32\n",
      "9\n",
      "36\n",
      "4\n"
     ]
    }
   ],
   "source": [
    "# 2d array\n",
    "a=np.array([[1,2,3],[4,5,6],[7,8,9]])\n",
    "print(a.ndim)\n",
    "print(a.shape)\n",
    "print(a.dtype)\n",
    "print(a.size)\n",
    "print(a.nbytes)\n",
    "print(a.itemsize)"
   ]
  },
  {
   "cell_type": "code",
   "execution_count": 41,
   "id": "be3998e2",
   "metadata": {},
   "outputs": [
    {
     "name": "stdout",
     "output_type": "stream",
     "text": [
      "hello madam\n",
      "good morning archana\n"
     ]
    }
   ],
   "source": [
    "def hello():\n",
    "    print(\"good morning archana\")\n",
    "print(\"hello madam\")\n",
    "hello()"
   ]
  },
  {
   "cell_type": "code",
   "execution_count": 42,
   "id": "2fe946ec",
   "metadata": {},
   "outputs": [
    {
     "name": "stdout",
     "output_type": "stream",
     "text": [
      "[[1 2 3]\n",
      " [4 5 6]\n",
      " [7 8 9]]\n"
     ]
    }
   ],
   "source": [
    "print(a)"
   ]
  },
  {
   "cell_type": "code",
   "execution_count": 52,
   "id": "32457b6e",
   "metadata": {},
   "outputs": [
    {
     "name": "stdout",
     "output_type": "stream",
     "text": [
      "[[[ 1  2  3]\n",
      "  [ 4  5  6]]\n",
      "\n",
      " [[ 7  8  9]\n",
      "  [10 11 12]]]\n",
      "3\n",
      "(2, 2, 3)\n"
     ]
    }
   ],
   "source": [
    "b=np.array([\n",
    "    [\n",
    "        [1,2,3],\n",
    "        [4,5,6]\n",
    "    ],\n",
    "    [\n",
    "        [7,8,9],\n",
    "        [10,11,12]\n",
    "    ]\n",
    "            ])\n",
    "print(b)\n",
    "print(b.ndim)\n",
    "print(b.shape)"
   ]
  },
  {
   "cell_type": "code",
   "execution_count": 53,
   "id": "b468a884",
   "metadata": {},
   "outputs": [
    {
     "name": "stdout",
     "output_type": "stream",
     "text": [
      "[[1 2 3]\n",
      " [4 5 6]\n",
      " [7 8 9]]\n"
     ]
    }
   ],
   "source": [
    "print(a)"
   ]
  },
  {
   "cell_type": "code",
   "execution_count": 54,
   "id": "5bc13a6d",
   "metadata": {},
   "outputs": [
    {
     "data": {
      "text/plain": [
       "array([[1, 2, 3],\n",
       "       [4, 5, 6],\n",
       "       [7, 8, 9]])"
      ]
     },
     "execution_count": 54,
     "metadata": {},
     "output_type": "execute_result"
    }
   ],
   "source": [
    "a"
   ]
  },
  {
   "cell_type": "code",
   "execution_count": 55,
   "id": "a65482cf",
   "metadata": {},
   "outputs": [
    {
     "data": {
      "text/plain": [
       "array([[[ 1,  2,  3,  4,  5,  6,  7,  8,  9, 10, 11, 12]]])"
      ]
     },
     "execution_count": 55,
     "metadata": {},
     "output_type": "execute_result"
    }
   ],
   "source": [
    "ma = np.array([1,2,3,4,5,6,7,8,9,10,11,12],ndmin=3) # returns ndim\n",
    "ma"
   ]
  },
  {
   "cell_type": "code",
   "execution_count": 56,
   "id": "0bd5017b",
   "metadata": {},
   "outputs": [
    {
     "data": {
      "text/plain": [
       "array([[ 1,  2,  3,  4,  5,  6,  7,  8,  9, 10, 11, 12]])"
      ]
     },
     "execution_count": 56,
     "metadata": {},
     "output_type": "execute_result"
    }
   ],
   "source": [
    "ma = np.array([1,2,3,4,5,6,7,8,9,10,11,12],ndmin=2)\n",
    "ma"
   ]
  },
  {
   "cell_type": "code",
   "execution_count": 59,
   "id": "b5bd213b",
   "metadata": {},
   "outputs": [
    {
     "data": {
      "text/plain": [
       "[1, 2, 3]"
      ]
     },
     "execution_count": 59,
     "metadata": {},
     "output_type": "execute_result"
    }
   ],
   "source": [
    "e"
   ]
  },
  {
   "cell_type": "code",
   "execution_count": 60,
   "id": "152d5479",
   "metadata": {},
   "outputs": [
    {
     "data": {
      "text/plain": [
       "1"
      ]
     },
     "execution_count": 60,
     "metadata": {},
     "output_type": "execute_result"
    }
   ],
   "source": [
    "e[0]"
   ]
  },
  {
   "cell_type": "code",
   "execution_count": 61,
   "id": "cb2615ab",
   "metadata": {},
   "outputs": [
    {
     "data": {
      "text/plain": [
       "3"
      ]
     },
     "execution_count": 61,
     "metadata": {},
     "output_type": "execute_result"
    }
   ],
   "source": [
    "e[2]"
   ]
  },
  {
   "cell_type": "code",
   "execution_count": 62,
   "id": "e94fd1b5",
   "metadata": {},
   "outputs": [
    {
     "data": {
      "text/plain": [
       "array([[1, 2, 3],\n",
       "       [4, 5, 6],\n",
       "       [7, 8, 9]])"
      ]
     },
     "execution_count": 62,
     "metadata": {},
     "output_type": "execute_result"
    }
   ],
   "source": [
    "a\n"
   ]
  },
  {
   "cell_type": "code",
   "execution_count": 63,
   "id": "aaf4f642",
   "metadata": {},
   "outputs": [
    {
     "data": {
      "text/plain": [
       "8"
      ]
     },
     "execution_count": 63,
     "metadata": {},
     "output_type": "execute_result"
    }
   ],
   "source": [
    "a[2][1]"
   ]
  },
  {
   "cell_type": "code",
   "execution_count": 64,
   "id": "b7680f96",
   "metadata": {},
   "outputs": [
    {
     "data": {
      "text/plain": [
       "5"
      ]
     },
     "execution_count": 64,
     "metadata": {},
     "output_type": "execute_result"
    }
   ],
   "source": [
    "a[1][1]"
   ]
  },
  {
   "cell_type": "code",
   "execution_count": 65,
   "id": "e6dd66ec",
   "metadata": {},
   "outputs": [
    {
     "data": {
      "text/plain": [
       "array([[[ 1,  2,  3],\n",
       "        [ 4,  5,  6]],\n",
       "\n",
       "       [[ 7,  8,  9],\n",
       "        [10, 11, 12]]])"
      ]
     },
     "execution_count": 65,
     "metadata": {},
     "output_type": "execute_result"
    }
   ],
   "source": [
    "b"
   ]
  },
  {
   "cell_type": "code",
   "execution_count": 66,
   "id": "0b2982af",
   "metadata": {},
   "outputs": [
    {
     "data": {
      "text/plain": [
       "9"
      ]
     },
     "execution_count": 66,
     "metadata": {},
     "output_type": "execute_result"
    }
   ],
   "source": [
    "b[1][0][2]"
   ]
  },
  {
   "cell_type": "code",
   "execution_count": 70,
   "id": "0c28eb09",
   "metadata": {},
   "outputs": [
    {
     "data": {
      "text/plain": [
       "6"
      ]
     },
     "execution_count": 70,
     "metadata": {},
     "output_type": "execute_result"
    }
   ],
   "source": [
    "b[0][1][2]"
   ]
  },
  {
   "cell_type": "code",
   "execution_count": 71,
   "id": "476de3c1",
   "metadata": {},
   "outputs": [
    {
     "data": {
      "text/plain": [
       "array([[1, 2, 3],\n",
       "       [4, 5, 6],\n",
       "       [7, 8, 9]])"
      ]
     },
     "execution_count": 71,
     "metadata": {},
     "output_type": "execute_result"
    }
   ],
   "source": [
    "a"
   ]
  },
  {
   "cell_type": "code",
   "execution_count": 73,
   "id": "e4b7bfb2",
   "metadata": {},
   "outputs": [
    {
     "data": {
      "text/plain": [
       "array([2, 6, 8])"
      ]
     },
     "execution_count": 73,
     "metadata": {},
     "output_type": "execute_result"
    }
   ],
   "source": [
    "a[[0,1,2],[1,2,1]] #a[(0,1),(1,2),(2,1)]\n",
    "\n"
   ]
  },
  {
   "cell_type": "code",
   "execution_count": 74,
   "id": "53abcd10",
   "metadata": {},
   "outputs": [
    {
     "data": {
      "text/plain": [
       "array([[[ 1,  2,  3],\n",
       "        [ 4,  5,  6]],\n",
       "\n",
       "       [[ 7,  8,  9],\n",
       "        [10, 11, 12]]])"
      ]
     },
     "execution_count": 74,
     "metadata": {},
     "output_type": "execute_result"
    }
   ],
   "source": [
    "b"
   ]
  },
  {
   "cell_type": "code",
   "execution_count": 75,
   "id": "c531d047",
   "metadata": {},
   "outputs": [
    {
     "data": {
      "text/plain": [
       "array([ 2,  6,  8, 12])"
      ]
     },
     "execution_count": 75,
     "metadata": {},
     "output_type": "execute_result"
    }
   ],
   "source": [
    "b[[0,0,1,1],[0,1,0,1],[1,2,1,2]]  #b[(0,0,1),(0,1,2),(1,0,1),(1,1,2)]"
   ]
  },
  {
   "cell_type": "code",
   "execution_count": 76,
   "id": "49c2b533",
   "metadata": {},
   "outputs": [
    {
     "data": {
      "text/plain": [
       "12"
      ]
     },
     "execution_count": 76,
     "metadata": {},
     "output_type": "execute_result"
    }
   ],
   "source": [
    "b[(1,1,2)]"
   ]
  },
  {
   "cell_type": "code",
   "execution_count": 78,
   "id": "e770b241",
   "metadata": {},
   "outputs": [
    {
     "data": {
      "text/plain": [
       "array([[1, 2, 3],\n",
       "       [4, 5, 6]])"
      ]
     },
     "execution_count": 78,
     "metadata": {},
     "output_type": "execute_result"
    }
   ],
   "source": [
    "b[0]"
   ]
  },
  {
   "cell_type": "code",
   "execution_count": 79,
   "id": "cd941549",
   "metadata": {},
   "outputs": [
    {
     "data": {
      "text/plain": [
       "array([[ 7,  8,  9],\n",
       "       [10, 11, 12]])"
      ]
     },
     "execution_count": 79,
     "metadata": {},
     "output_type": "execute_result"
    }
   ],
   "source": [
    "b[1]"
   ]
  }
 ],
 "metadata": {
  "kernelspec": {
   "display_name": "Python 3",
   "language": "python",
   "name": "python3"
  },
  "language_info": {
   "codemirror_mode": {
    "name": "ipython",
    "version": 3
   },
   "file_extension": ".py",
   "mimetype": "text/x-python",
   "name": "python",
   "nbconvert_exporter": "python",
   "pygments_lexer": "ipython3",
   "version": "3.8.8"
  }
 },
 "nbformat": 4,
 "nbformat_minor": 5
}
