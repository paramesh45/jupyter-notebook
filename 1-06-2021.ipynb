{
 "cells": [
  {
   "cell_type": "markdown",
   "id": "7dd00207",
   "metadata": {},
   "source": [
    "###>1. Funtion to find the average of cubes of all the even numbers within a given range (ul,ll) both are inclusive\n",
    ">2. Function to generate the list of factors of a given number\n",
    ">3. Function to check whether a number is prime or not\n",
    "\n"
   ]
  },
  {
   "cell_type": "markdown",
   "id": "5bf4d4ee",
   "metadata": {},
   "source": [
    "### Functions:\n",
    "## Function is a set of statements or block of code to perform a specific task.\n",
    "\n",
    "## Predefined functions\n",
    "input(),dir(),type(),int(),float(),str(),range(),len(),min(),max(),sum(),abs(),chr(),ord()\n",
    "## User defined Functions"
   ]
  },
  {
   "cell_type": "code",
   "execution_count": 4,
   "id": "ee73a449",
   "metadata": {},
   "outputs": [
    {
     "name": "stdout",
     "output_type": "stream",
     "text": [
      "1\n",
      "y\n"
     ]
    }
   ],
   "source": [
    "var=\"parameshReddy123\"\n",
    "print(min(var))\n",
    "print(max(var))"
   ]
  },
  {
   "cell_type": "code",
   "execution_count": 5,
   "id": "4844c76c",
   "metadata": {},
   "outputs": [
    {
     "data": {
      "text/plain": [
       "'^'"
      ]
     },
     "execution_count": 5,
     "metadata": {},
     "output_type": "execute_result"
    }
   ],
   "source": [
    "chr(94)"
   ]
  },
  {
   "cell_type": "code",
   "execution_count": 6,
   "id": "49f3a81e",
   "metadata": {},
   "outputs": [
    {
     "data": {
      "text/plain": [
       "'A'"
      ]
     },
     "execution_count": 6,
     "metadata": {},
     "output_type": "execute_result"
    }
   ],
   "source": [
    "chr(65)"
   ]
  },
  {
   "cell_type": "code",
   "execution_count": 7,
   "id": "3cf76e18",
   "metadata": {},
   "outputs": [
    {
     "data": {
      "text/plain": [
       "'a'"
      ]
     },
     "execution_count": 7,
     "metadata": {},
     "output_type": "execute_result"
    }
   ],
   "source": [
    "chr(97)"
   ]
  },
  {
   "cell_type": "code",
   "execution_count": 8,
   "id": "135926cd",
   "metadata": {},
   "outputs": [
    {
     "data": {
      "text/plain": [
       "49"
      ]
     },
     "execution_count": 8,
     "metadata": {},
     "output_type": "execute_result"
    }
   ],
   "source": [
    "ord(\"1\")"
   ]
  },
  {
   "cell_type": "code",
   "execution_count": 9,
   "id": "cf40c22b",
   "metadata": {},
   "outputs": [
    {
     "data": {
      "text/plain": [
       "121"
      ]
     },
     "execution_count": 9,
     "metadata": {},
     "output_type": "execute_result"
    }
   ],
   "source": [
    "ord(\"y\")"
   ]
  },
  {
   "cell_type": "code",
   "execution_count": 10,
   "id": "7a5b4cc7",
   "metadata": {},
   "outputs": [
    {
     "data": {
      "text/plain": [
       "8456"
      ]
     },
     "execution_count": 10,
     "metadata": {},
     "output_type": "execute_result"
    }
   ],
   "source": [
    "abs(-8456)"
   ]
  },
  {
   "cell_type": "code",
   "execution_count": 11,
   "id": "a20c3a79",
   "metadata": {},
   "outputs": [
    {
     "data": {
      "text/plain": [
       "10"
      ]
     },
     "execution_count": 11,
     "metadata": {},
     "output_type": "execute_result"
    }
   ],
   "source": [
    "list=[1,2,3,4]\n",
    "sum(list)"
   ]
  },
  {
   "cell_type": "code",
   "execution_count": 12,
   "id": "b152a43c",
   "metadata": {},
   "outputs": [
    {
     "name": "stdout",
     "output_type": "stream",
     "text": [
      "enter a value paramesh\n",
      " paramesh\n",
      "second print statement\n"
     ]
    }
   ],
   "source": [
    "\n",
    "def Example(arg1):\n",
    "    print(arg1)\n",
    "    print(\"second print statement\")\n",
    "    \n",
    "m = input(\"enter a value\")\n",
    "Example(m)"
   ]
  },
  {
   "cell_type": "code",
   "execution_count": 13,
   "id": "0212ca16",
   "metadata": {},
   "outputs": [
    {
     "name": "stdout",
     "output_type": "stream",
     "text": [
      "enter a msg paramesh\n"
     ]
    },
    {
     "data": {
      "text/plain": [
       "' paramesh'"
      ]
     },
     "execution_count": 13,
     "metadata": {},
     "output_type": "execute_result"
    }
   ],
   "source": [
    "def Example1(arg):\n",
    "    return arg\n",
    "    print(\"this line doesnt print\")\n",
    "    \n",
    "m1 = input(\"enter a msg\")\n",
    "Example1(m1)"
   ]
  },
  {
   "cell_type": "code",
   "execution_count": 14,
   "id": "f842dfa8",
   "metadata": {},
   "outputs": [
    {
     "name": "stdout",
     "output_type": "stream",
     "text": [
      "enter a value10\n",
      "enter b value20\n"
     ]
    },
    {
     "data": {
      "text/plain": [
       "30"
      ]
     },
     "execution_count": 14,
     "metadata": {},
     "output_type": "execute_result"
    }
   ],
   "source": [
    "def add(a,b):\n",
    "    return a+b\n",
    "    \n",
    "a = int(input(\"enter a value\"))\n",
    "b = int(input(\"enter b value\"))\n",
    "add(a,b)"
   ]
  },
  {
   "cell_type": "code",
   "execution_count": 15,
   "id": "06f2c542",
   "metadata": {},
   "outputs": [
    {
     "name": "stdout",
     "output_type": "stream",
     "text": [
      "enter a value10\n",
      "enter b value20\n"
     ]
    },
    {
     "data": {
      "text/plain": [
       "30"
      ]
     },
     "execution_count": 15,
     "metadata": {},
     "output_type": "execute_result"
    }
   ],
   "source": [
    "\n",
    "add(int(input(\"enter a value\")),int(input(\"enter b value\")))\n"
   ]
  },
  {
   "cell_type": "code",
   "execution_count": 16,
   "id": "2ccbeaa2",
   "metadata": {},
   "outputs": [
    {
     "data": {
      "text/plain": [
       "50"
      ]
     },
     "execution_count": 16,
     "metadata": {},
     "output_type": "execute_result"
    }
   ],
   "source": [
    "add(20,30)"
   ]
  },
  {
   "cell_type": "markdown",
   "id": "fcb1e74a",
   "metadata": {},
   "source": [
    "## Types of Arguments\n",
    "### Required Arguments\n",
    "\n",
    " number of arguments in the function call should match with the number of arguments present in the function definition.\n",
    "# keyword Arguments\n",
    "\n",
    "when we use keyword arguments in a function call, the caller identifies the arguments by the parameter name and python interpreter is able to use the keywords provided to match the values with parameters.\n",
    "# dfault Arguments\n",
    "\n",
    "Default argument is an argument that accepts a default value from function definition if a value is not provided in the function call.\n",
    "# Variable Length Arguments\n",
    "\n",
    "Instead of processing a function for more arguments than you specified whiiile defing the function. An astriek(*) is placed preceeding to the variable name which hols all the values in a tuple"
   ]
  },
  {
   "cell_type": "code",
   "execution_count": 19,
   "id": "60f6210d",
   "metadata": {},
   "outputs": [
    {
     "name": "stdout",
     "output_type": "stream",
     "text": [
      "enter a :10\n",
      "enter b :20\n"
     ]
    },
    {
     "data": {
      "text/plain": [
       "30"
      ]
     },
     "execution_count": 19,
     "metadata": {},
     "output_type": "execute_result"
    }
   ],
   "source": [
    "# required\n",
    "def required(a,b):\n",
    "    return a+b\n",
    "a=int(input(\"enter a :\"))\n",
    "b=int(input(\"enter b :\"))\n",
    "required(a,b)"
   ]
  },
  {
   "cell_type": "code",
   "execution_count": 36,
   "id": "10624865",
   "metadata": {},
   "outputs": [
    {
     "name": "stdout",
     "output_type": "stream",
     "text": [
      "paramesh 1234 eee\n"
     ]
    }
   ],
   "source": [
    "# keyword\n",
    "def keyword(name, roll,branch):\n",
    "    print(name ,roll,branch)\n",
    "keyword(name=\"paramesh\",roll=1234,branch=\"eee\")"
   ]
  },
  {
   "cell_type": "code",
   "execution_count": 25,
   "id": "273b2309",
   "metadata": {},
   "outputs": [
    {
     "name": "stdout",
     "output_type": "stream",
     "text": [
      "paramesh 1234 eee\n"
     ]
    }
   ],
   "source": [
    "def keyword(name, roll,branch):\n",
    "    print(name ,roll,branch)\n",
    "keyword(roll=1234,name=\"paramesh\",branch=\"eee\")"
   ]
  },
  {
   "cell_type": "code",
   "execution_count": 37,
   "id": "6aa22484",
   "metadata": {},
   "outputs": [],
   "source": [
    "# Default arguments\n",
    "def defaultArgs(a,b=1,c=67.8):\n",
    "    print(a)\n",
    "    print(b,c)\n",
    "    print()"
   ]
  },
  {
   "cell_type": "code",
   "execution_count": 38,
   "id": "14d664ce",
   "metadata": {},
   "outputs": [
    {
     "name": "stdout",
     "output_type": "stream",
     "text": [
      "12\n",
      "1 67.8\n",
      "\n",
      "1\n",
      "2 3\n",
      "\n",
      "145\n",
      "78 67.8\n",
      "\n"
     ]
    }
   ],
   "source": [
    "defaultArgs(12)\n",
    "defaultArgs(1,2,3)\n",
    "defaultArgs(145,78)"
   ]
  },
  {
   "cell_type": "code",
   "execution_count": 41,
   "id": "53d61ccd",
   "metadata": {},
   "outputs": [
    {
     "name": "stdout",
     "output_type": "stream",
     "text": [
      "1\n",
      "(2, 3, 4, 5, 5, 6, 'paramesh', 3.25, 1231)\n"
     ]
    }
   ],
   "source": [
    "#Variable Length Arguments\n",
    "def length(a,*b):\n",
    "    print(a)\n",
    "    print(b)\n",
    "   #print(c)\n",
    "length(1,2,3,4,5,5,6,\"paramesh\",3.25,1231)"
   ]
  },
  {
   "cell_type": "code",
   "execution_count": 4,
   "id": "fef7866a",
   "metadata": {},
   "outputs": [
    {
     "name": "stdout",
     "output_type": "stream",
     "text": [
      "enter number5\n",
      "120\n"
     ]
    }
   ],
   "source": [
    "#without recrussion\n",
    "a=int(input(\"enter number\"))\n",
    "\n",
    "def factorial(b):\n",
    "    fact=1\n",
    "    for x in range(1,a+1):\n",
    "        fact*=x\n",
    "    print(fact)\n",
    "factorial(a)\n",
    "\n"
   ]
  },
  {
   "cell_type": "code",
   "execution_count": 2,
   "id": "fa07ae4b",
   "metadata": {},
   "outputs": [
    {
     "name": "stdout",
     "output_type": "stream",
     "text": [
      "enter number:5\n",
      "120\n"
     ]
    }
   ],
   "source": [
    "# with recrusive\n",
    "a=int(input(\"enter number:\"))\n",
    "def factorial(a):\n",
    "    if a==1:\n",
    "        return a\n",
    "    else:\n",
    "        return a*factorial(a-1)\n",
    "print(factorial(a))\n"
   ]
  },
  {
   "cell_type": "code",
   "execution_count": 17,
   "id": "3a71bbc0",
   "metadata": {},
   "outputs": [
    {
     "name": "stdout",
     "output_type": "stream",
     "text": [
      "enter number21\n",
      "not a prime\n"
     ]
    }
   ],
   "source": [
    "# prime number\n",
    "a=int(input(\"enter number\"))\n",
    "if a>1:\n",
    "    def prime(a):\n",
    "        for x in range(2,a):\n",
    "            if (a%x)==0:\n",
    "                print(\"not a prime\")\n",
    "                break\n",
    "        else:\n",
    "            return \"prime\"\n",
    "prime(a)"
   ]
  },
  {
   "cell_type": "code",
   "execution_count": 23,
   "id": "a845c637",
   "metadata": {},
   "outputs": [
    {
     "name": "stdout",
     "output_type": "stream",
     "text": [
      "enter a number10\n",
      "1 2 5 10 "
     ]
    }
   ],
   "source": [
    "#factors of a given number\n",
    "a=int(input(\"enter a number\"))\n",
    "def factor(a):\n",
    "    for x in range(1,a+1):\n",
    "        if a%x==0:\n",
    "            print(x,end=\" \")\n",
    "            \n",
    "        else:\n",
    "            continue\n",
    "factor(a)\n",
    "            "
   ]
  },
  {
   "cell_type": "code",
   "execution_count": 31,
   "id": "6d04e2b2",
   "metadata": {},
   "outputs": [
    {
     "name": "stdout",
     "output_type": "stream",
     "text": [
      "enter a number1\n",
      "enter b number10\n",
      "360.0\n"
     ]
    }
   ],
   "source": [
    "# function to find average of cubes of all the even numbers with a given range \n",
    "a=int(input(\"enter a number\"))\n",
    "b=int(input(\"enter b number\"))\n",
    "s=[]\n",
    "def average(a,b):\n",
    "    for x in range(a,b+1):\n",
    "        if x%2==0:\n",
    "            cube=x**3\n",
    "            s.append(cube)\n",
    "average(a,b)\n",
    "avg=sum(s)/len(s)\n",
    "print(avg)"
   ]
  },
  {
   "cell_type": "code",
   "execution_count": 1,
   "id": "54087e4c",
   "metadata": {},
   "outputs": [
    {
     "name": "stdout",
     "output_type": "stream",
     "text": [
      "Data Analysis\n",
      "<class 'str'>\n"
     ]
    }
   ],
   "source": [
    "t = (\"D\",\"a\",\"t\",\"a\",\" \",\"A\",\"n\",\"a\",\"l\",\"y\",\"s\",\"i\",\"s\")\n",
    "s=\"\"\n",
    "for i in t:\n",
    "    s=s+i\n",
    "print(s)\n",
    "print(type(s))\n"
   ]
  }
 ],
 "metadata": {
  "kernelspec": {
   "display_name": "Python 3",
   "language": "python",
   "name": "python3"
  },
  "language_info": {
   "codemirror_mode": {
    "name": "ipython",
    "version": 3
   },
   "file_extension": ".py",
   "mimetype": "text/x-python",
   "name": "python",
   "nbconvert_exporter": "python",
   "pygments_lexer": "ipython3",
   "version": "3.8.8"
  }
 },
 "nbformat": 4,
 "nbformat_minor": 5
}
